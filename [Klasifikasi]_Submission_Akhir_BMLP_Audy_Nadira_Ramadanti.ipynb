{
  "cells": [
    {
      "cell_type": "markdown",
      "metadata": {},
      "source": [
        "# Proyek Machine Learning Pemula: Beverage Sales Dataset \n",
        "- **Nama:** Audy Nadira Ramadanti\n",
        "- **Email:** audynadiraramdanti@gmail.com\n",
        "- **ID Dicoding:** audy_nadira_ramadanti_zWZ9"
      ]
    },
    {
      "cell_type": "markdown",
      "metadata": {
        "id": "fKADPWcFKlj3"
      },
      "source": [
        "# **1. Import Library**"
      ]
    },
    {
      "cell_type": "markdown",
      "metadata": {},
      "source": [
        "Sebelum menjalankan kode dalam proyek ini, pastikan semua dependensi yang diperlukan telah terinstal. Gunakan perintah berikut untuk menginstal pustaka yang dibutuhkan:"
      ]
    },
    {
      "cell_type": "code",
      "execution_count": 1,
      "metadata": {},
      "outputs": [
        {
          "name": "stdout",
          "output_type": "stream",
          "text": [
            "Requirement already satisfied: pandas in c:\\users\\fx506\\appdata\\local\\programs\\python\\python311\\lib\\site-packages (2.2.1)\n",
            "Requirement already satisfied: numpy in c:\\users\\fx506\\appdata\\local\\programs\\python\\python311\\lib\\site-packages (1.26.4)\n",
            "Requirement already satisfied: matplotlib in c:\\users\\fx506\\appdata\\local\\programs\\python\\python311\\lib\\site-packages (3.9.0)\n",
            "Requirement already satisfied: seaborn in c:\\users\\fx506\\appdata\\local\\programs\\python\\python311\\lib\\site-packages (0.13.2)\n",
            "Requirement already satisfied: scikit-learn in c:\\users\\fx506\\appdata\\local\\programs\\python\\python311\\lib\\site-packages (1.4.1.post1)\n",
            "Requirement already satisfied: python-dateutil>=2.8.2 in c:\\users\\fx506\\appdata\\roaming\\python\\python311\\site-packages (from pandas) (2.8.2)\n",
            "Requirement already satisfied: pytz>=2020.1 in c:\\users\\fx506\\appdata\\local\\programs\\python\\python311\\lib\\site-packages (from pandas) (2024.1)\n",
            "Requirement already satisfied: tzdata>=2022.7 in c:\\users\\fx506\\appdata\\local\\programs\\python\\python311\\lib\\site-packages (from pandas) (2024.1)\n",
            "Requirement already satisfied: contourpy>=1.0.1 in c:\\users\\fx506\\appdata\\local\\programs\\python\\python311\\lib\\site-packages (from matplotlib) (1.2.1)\n",
            "Requirement already satisfied: cycler>=0.10 in c:\\users\\fx506\\appdata\\local\\programs\\python\\python311\\lib\\site-packages (from matplotlib) (0.12.1)\n",
            "Requirement already satisfied: fonttools>=4.22.0 in c:\\users\\fx506\\appdata\\local\\programs\\python\\python311\\lib\\site-packages (from matplotlib) (4.53.0)\n",
            "Requirement already satisfied: kiwisolver>=1.3.1 in c:\\users\\fx506\\appdata\\local\\programs\\python\\python311\\lib\\site-packages (from matplotlib) (1.4.5)\n",
            "Requirement already satisfied: packaging>=20.0 in c:\\users\\fx506\\appdata\\roaming\\python\\python311\\site-packages (from matplotlib) (23.2)\n",
            "Requirement already satisfied: pillow>=8 in c:\\users\\fx506\\appdata\\local\\programs\\python\\python311\\lib\\site-packages (from matplotlib) (11.1.0)\n",
            "Requirement already satisfied: pyparsing>=2.3.1 in c:\\users\\fx506\\appdata\\local\\programs\\python\\python311\\lib\\site-packages (from matplotlib) (3.1.2)\n",
            "Requirement already satisfied: scipy>=1.6.0 in c:\\users\\fx506\\appdata\\local\\programs\\python\\python311\\lib\\site-packages (from scikit-learn) (1.12.0)\n",
            "Requirement already satisfied: joblib>=1.2.0 in c:\\users\\fx506\\appdata\\local\\programs\\python\\python311\\lib\\site-packages (from scikit-learn) (1.3.2)\n",
            "Requirement already satisfied: threadpoolctl>=2.0.0 in c:\\users\\fx506\\appdata\\local\\programs\\python\\python311\\lib\\site-packages (from scikit-learn) (3.3.0)\n",
            "Requirement already satisfied: six>=1.5 in c:\\users\\fx506\\appdata\\roaming\\python\\python311\\site-packages (from python-dateutil>=2.8.2->pandas) (1.16.0)\n",
            "Note: you may need to restart the kernel to use updated packages.\n"
          ]
        }
      ],
      "source": [
        "pip install pandas numpy matplotlib seaborn scikit-learn"
      ]
    },
    {
      "cell_type": "code",
      "execution_count": 2,
      "metadata": {
        "id": "BlmvjLY9M4Yj"
      },
      "outputs": [],
      "source": [
        "#Type your code here\n",
        "\n",
        "import pandas as pd\n",
        "import numpy as np\n",
        "import matplotlib.pyplot as plt\n",
        "import seaborn as sns\n",
        "from sklearn.preprocessing import OneHotEncoder\n",
        "from sklearn.preprocessing import LabelEncoder\n",
        "from sklearn.preprocessing import MinMaxScaler\n",
        "from sklearn.model_selection import train_test_split \n",
        "from sklearn.metrics import classification_report\n",
        "from sklearn.metrics import accuracy_score\n",
        "from sklearn.linear_model import LogisticRegression\n",
        "from sklearn.ensemble import RandomForestClassifier\n",
        "import xgboost as xgb\n",
        "from sklearn.model_selection import GridSearchCV \n",
        "from sklearn.model_selection import RandomizedSearchCV\n",
        "from sklearn.model_selection import learning_curve\n",
        "from sklearn.model_selection import cross_val_score\n",
        "from sklearn.neural_network import MLPClassifier\n"
      ]
    },
    {
      "cell_type": "markdown",
      "metadata": {},
      "source": [
        "Sebelum memulai pemrosesan data, saya memerlukan beberapa library yang membantu dalam pengolahan, analisis, dan visualisasi data, serta penerapan algoritma clustering. Berikut adalah penjelasan singkat mengenai masing-masing library dan fungsi yang diimpor:\n",
        "\n",
        "**1. `pandas` (`import pandas as pd`)**  \n",
        "   - Digunakan untuk **manipulasi dan analisis data**.  \n",
        "   - Memiliki struktur data **DataFrame** dan **Series** yang memudahkan operasi seperti membaca, menulis, menggabungkan, dan memfilter data.\n",
        "\n",
        "**2. `NumPy` (`import numpy as np`)**  \n",
        "   - Menyediakan **array multidimensi** yang efisien dan berbagai fungsi matematika untuk perhitungan numerik.  \n",
        "   - Sering digunakan bersama Pandas untuk melakukan operasi numerik yang lebih kompleks.\n",
        "\n",
        "**3. `matplotlib.pyplot` (`import matplotlib.pyplot as plt`)**  \n",
        "   - Memungkinkan pembuatan **grafik dan visualisasi data** dasar, seperti plot garis, histogram, dan scatter plot.  \n",
        "   - Sangat fleksibel dan dapat dikustomisasi untuk berbagai jenis visualisasi.\n",
        "\n",
        "**4. `seaborn` (`import seaborn as sns`)**  \n",
        "   - Memperluas Matplotlib dengan **tampilan visualisasi statistik** yang lebih menarik dan mudah dipahami.  \n",
        "   - Memiliki fungsi bawaan untuk membuat plot seperti heatmap, boxplot, dan pairplot secara lebih sederhana.\n",
        "\n",
        "**5. `OneHotEncoder` (`from sklearn.preprocessing import OneHotEncoder`)**  \n",
        "   - Digunakan untuk **mengubah (encode) fitur kategorikal** menjadi variabel dummy (kolom biner).  \n",
        "   - Sangat berguna ketika fitur kategorikal tidak bersifat ordinal dan memiliki beberapa kategori unik.\n",
        "\n",
        "**6. `LabelEncoder` (`from sklearn.preprocessing import LabelEncoder`)**  \n",
        "   - Mengubah nilai kategori menjadi **label numerik** (misalnya 0, 1, 2, dst.).  \n",
        "   - Cocok untuk kasus di mana kolom kategorikal bisa diwakili oleh integer label tanpa perlu menambah banyak kolom baru.\n",
        "\n",
        "**7. `MinMaxScaler` (`from sklearn.preprocessing import MinMaxScaler`)**  \n",
        "   - Digunakan untuk **menormalisasi** atau **menskalakan** data numerik ke dalam rentang tertentu, biasanya [0, 1].  \n",
        "   - Membantu algoritma *machine learning* yang sensitif terhadap skala data agar kinerjanya lebih optimal.\n",
        "\n",
        "**8. `train_test_split` (`from sklearn.model_selection import train_test_split`)**  \n",
        "   - Memudahkan **pembagian dataset** menjadi **data latih** dan **data uji** secara acak.  \n",
        "   - Membantu dalam memvalidasi model dengan mengecek performa pada data yang belum pernah dilihat sebelumnya.\n",
        "\n",
        "**9. `classification_report` (`from sklearn.metrics import classification_report`)**  \n",
        "   - Memberikan **ringkasan metrik evaluasi** untuk tugas klasifikasi, seperti **precision**, **recall**, dan **f1-score**.  \n",
        "   - Memudahkan kita untuk melihat performa model di setiap kelas secara rinci.\n",
        "\n",
        "**10. `accuracy_score` (`from sklearn.metrics import accuracy_score`)**  \n",
        "   - Menghitung **akurasi** model klasifikasi, yaitu persentase prediksi benar dari keseluruhan data uji.  \n",
        "   - Salah satu metrik umum untuk menilai performa model klasifikasi.\n",
        "\n",
        "**11. `LogisticRegression` (`from sklearn.linear_model import LogisticRegression`)**  \n",
        "   - Model klasifikasi yang menggunakan **regresi logistik** untuk memprediksi kelas (0/1).  \n",
        "   - Sering digunakan sebagai baseline karena sederhana namun cukup efektif.\n",
        "\n",
        "**12. `RandomForestClassifier` (`from sklearn.ensemble import RandomForestClassifier`)**  \n",
        "   - Model **ensemble** berbasis banyak *decision tree* yang dikombinasikan secara acak (random) untuk meningkatkan akurasi dan mengurangi *overfitting*.\n",
        "\n",
        "**13. `xgboost` (`import xgboost as xgb`)**  \n",
        "   - Model **gradient boosting** yang efisien dan seringkali memberikan performa tinggi dalam berbagai kompetisi data.  \n",
        "   - Mampu menangani data dengan jumlah fitur besar dan mendukung *regularization* yang baik.\n",
        "\n",
        "**14. `GridSearchCV` (`from sklearn.model_selection import GridSearchCV`)**  \n",
        "   - Melakukan **pencarian sistematis** atas kombinasi parameter yang ditentukan untuk menemukan **hyperparameter** optimal.  \n",
        "   - Menggunakan teknik **cross-validation** dalam proses pencariannya.\n",
        "\n",
        "**15. `RandomizedSearchCV` (`from sklearn.model_selection import RandomizedSearchCV`)**  \n",
        "   - Alternatif yang lebih **efisien** daripada GridSearchCV dengan melakukan **pencarian acak** pada ruang parameter.  \n",
        "   - Cocok untuk ruang parameter yang besar atau waktu komputasi yang terbatas.\n",
        "\n",
        "**16. `learning_curve` (`from sklearn.model_selection import learning_curve`)**  \n",
        "   - Digunakan untuk **membuat kurva pembelajaran** yang menunjukkan bagaimana kinerja model berubah dengan bertambahnya data latih.  \n",
        "   - Membantu mendeteksi apakah model mengalami *overfitting* atau *underfitting*.\n",
        "\n",
        "**17. `cross_val_score` (`from sklearn.model_selection import cross_val_score`)**  \n",
        "   - Memungkinkan kita melakukan **evaluasi model** dengan *k-fold cross-validation* secara mudah.  \n",
        "   - Menghasilkan skor performa di setiap fold, sehingga kita bisa melihat **variabilitas** dan **rata-rata** performa model.\n",
        "\n",
        "**18. `MLPClassifier` (`from sklearn.neural_network import MLPClassifier`)**  \n",
        "   - Model **Neural Network** (Multi-Layer Perceptron) dari scikit-learn.  \n",
        "   - Mampu mempelajari hubungan non-linear dalam data melalui beberapa lapisan tersembunyi."
      ]
    },
    {
      "cell_type": "markdown",
      "metadata": {
        "id": "f3YIEnAFKrKL"
      },
      "source": [
        "# **2. Memuat Dataset dari Hasil Clustering**"
      ]
    },
    {
      "cell_type": "code",
      "execution_count": 3,
      "metadata": {
        "id": "GHCGNTyrM5fS"
      },
      "outputs": [
        {
          "data": {
            "text/html": [
              "<div>\n",
              "<style scoped>\n",
              "    .dataframe tbody tr th:only-of-type {\n",
              "        vertical-align: middle;\n",
              "    }\n",
              "\n",
              "    .dataframe tbody tr th {\n",
              "        vertical-align: top;\n",
              "    }\n",
              "\n",
              "    .dataframe thead th {\n",
              "        text-align: right;\n",
              "    }\n",
              "</style>\n",
              "<table border=\"1\" class=\"dataframe\">\n",
              "  <thead>\n",
              "    <tr style=\"text-align: right;\">\n",
              "      <th></th>\n",
              "      <th>Product</th>\n",
              "      <th>Category</th>\n",
              "      <th>Unit_Price</th>\n",
              "      <th>Quantity</th>\n",
              "      <th>Discount</th>\n",
              "      <th>Total_Price</th>\n",
              "      <th>Region</th>\n",
              "      <th>Order_Date</th>\n",
              "      <th>Cluster</th>\n",
              "      <th>Customer_Type</th>\n",
              "    </tr>\n",
              "  </thead>\n",
              "  <tbody>\n",
              "    <tr>\n",
              "      <th>0</th>\n",
              "      <td>Hohes C Orange</td>\n",
              "      <td>Juices</td>\n",
              "      <td>1.87</td>\n",
              "      <td>66.0</td>\n",
              "      <td>0.100</td>\n",
              "      <td>124.540</td>\n",
              "      <td>Niedersachsen</td>\n",
              "      <td>2023-11-29</td>\n",
              "      <td>9</td>\n",
              "      <td>B2B</td>\n",
              "    </tr>\n",
              "    <tr>\n",
              "      <th>1</th>\n",
              "      <td>Fritz-Kola</td>\n",
              "      <td>Soft Drinks</td>\n",
              "      <td>1.87</td>\n",
              "      <td>18.0</td>\n",
              "      <td>0.050</td>\n",
              "      <td>31.980</td>\n",
              "      <td>Bremen</td>\n",
              "      <td>2021-05-13</td>\n",
              "      <td>8</td>\n",
              "      <td>B2B</td>\n",
              "    </tr>\n",
              "    <tr>\n",
              "      <th>2</th>\n",
              "      <td>Merlot</td>\n",
              "      <td>Alcoholic Beverages</td>\n",
              "      <td>6.45</td>\n",
              "      <td>66.0</td>\n",
              "      <td>0.125</td>\n",
              "      <td>161.125</td>\n",
              "      <td>Thüringen</td>\n",
              "      <td>2021-04-21</td>\n",
              "      <td>6</td>\n",
              "      <td>B2B</td>\n",
              "    </tr>\n",
              "    <tr>\n",
              "      <th>3</th>\n",
              "      <td>Moët &amp; Chandon</td>\n",
              "      <td>Alcoholic Beverages</td>\n",
              "      <td>6.45</td>\n",
              "      <td>66.0</td>\n",
              "      <td>0.100</td>\n",
              "      <td>161.125</td>\n",
              "      <td>Hamburg</td>\n",
              "      <td>2021-08-23</td>\n",
              "      <td>5</td>\n",
              "      <td>B2B</td>\n",
              "    </tr>\n",
              "    <tr>\n",
              "      <th>4</th>\n",
              "      <td>Granini Apple</td>\n",
              "      <td>Juices</td>\n",
              "      <td>1.64</td>\n",
              "      <td>4.0</td>\n",
              "      <td>0.000</td>\n",
              "      <td>6.560</td>\n",
              "      <td>Sachsen</td>\n",
              "      <td>2022-10-16</td>\n",
              "      <td>1</td>\n",
              "      <td>B2C</td>\n",
              "    </tr>\n",
              "  </tbody>\n",
              "</table>\n",
              "</div>"
            ],
            "text/plain": [
              "          Product             Category  Unit_Price  Quantity  Discount  \\\n",
              "0  Hohes C Orange               Juices        1.87      66.0     0.100   \n",
              "1      Fritz-Kola          Soft Drinks        1.87      18.0     0.050   \n",
              "2          Merlot  Alcoholic Beverages        6.45      66.0     0.125   \n",
              "3  Moët & Chandon  Alcoholic Beverages        6.45      66.0     0.100   \n",
              "4   Granini Apple               Juices        1.64       4.0     0.000   \n",
              "\n",
              "   Total_Price         Region  Order_Date  Cluster Customer_Type  \n",
              "0      124.540  Niedersachsen  2023-11-29        9           B2B  \n",
              "1       31.980         Bremen  2021-05-13        8           B2B  \n",
              "2      161.125      Thüringen  2021-04-21        6           B2B  \n",
              "3      161.125        Hamburg  2021-08-23        5           B2B  \n",
              "4        6.560        Sachsen  2022-10-16        1           B2C  "
            ]
          },
          "execution_count": 3,
          "metadata": {},
          "output_type": "execute_result"
        }
      ],
      "source": [
        "#Type your code here\n",
        "\n",
        "data = pd.read_csv(\"data/Data_Clustering.csv\")\n",
        "\n",
        "data.head()"
      ]
    },
    {
      "cell_type": "markdown",
      "metadata": {},
      "source": [
        "Karena sebelumnya kita sudah mendapatkan **label** dari pemodelan klasterisasi dan telah menyimpannya dalam file **CSV** (`Data_Clustering.csv`), selanjutnya saya akan **menggunakannya untuk proses klasifikasi**. Hal ini saya lakukan dengan **menjadikan kolom hasil klasterisasi sebagai target (label)** dalam pendekatan **supervised learning**. Dengan demikian, kita dapat membangun model klasifikasi (misalnya Decision Tree, Random Forest, atau Logistic Regression) yang mampu memprediksi **segmen pelanggan** (label klaster) untuk data baru berdasarkan fitur-fitur yang tersedia."
      ]
    },
    {
      "cell_type": "code",
      "execution_count": 4,
      "metadata": {},
      "outputs": [
        {
          "name": "stdout",
          "output_type": "stream",
          "text": [
            "<class 'pandas.core.frame.DataFrame'>\n",
            "RangeIndex: 10000 entries, 0 to 9999\n",
            "Data columns (total 10 columns):\n",
            " #   Column         Non-Null Count  Dtype  \n",
            "---  ------         --------------  -----  \n",
            " 0   Product        10000 non-null  object \n",
            " 1   Category       10000 non-null  object \n",
            " 2   Unit_Price     10000 non-null  float64\n",
            " 3   Quantity       10000 non-null  float64\n",
            " 4   Discount       10000 non-null  float64\n",
            " 5   Total_Price    10000 non-null  float64\n",
            " 6   Region         10000 non-null  object \n",
            " 7   Order_Date     10000 non-null  object \n",
            " 8   Cluster        10000 non-null  int64  \n",
            " 9   Customer_Type  10000 non-null  object \n",
            "dtypes: float64(4), int64(1), object(5)\n",
            "memory usage: 781.4+ KB\n"
          ]
        }
      ],
      "source": [
        "data.info()"
      ]
    },
    {
      "cell_type": "markdown",
      "metadata": {},
      "source": [
        "Sebelum mulai memproses data, langkah pertama yang saya lakukan adalah **memeriksa struktur dataset** dengan menggunakan `data.info()`. Dari hasil tersebut, dapat dilihat:\n",
        "\n",
        "- **Jumlah baris**: 10.000  \n",
        "- **Jumlah kolom**: 10  \n",
        "- **Tipe data**:  \n",
        "  - 5 kolom bertipe *object* (`Customer_ID`, `Order_ID`, `Region`, `Customer_Type`, `Customer_Segment`)  \n",
        "  - 4 kolom bertipe *float64* (`Unit_Price`, `Total_Price`, `Quantity`, `Discount`)  \n",
        "  - 1 kolom bertipe *int64* (`Cluster`)  \n",
        "- **Tidak ada missing values** (semua kolom memiliki 10.000 non-null entries).  \n",
        "- **Penggunaan memori**: sekitar 781.4 KB.\n",
        "\n",
        "Dengan mengetahui struktur data seperti ini, kita bisa merencanakan **langkah preprocessing** selanjutnya, misalnya:\n",
        "- Mengecek apakah kolom bertipe *object* perlu diubah ke tipe kategori atau tipe numerik tertentu.  \n",
        "- Melakukan *feature engineering* jika diperlukan (contoh: menghitung metrik baru dari `Unit_Price` dan `Quantity`, atau menganalisis segmen pelanggan berdasarkan `Customer_Type`).  \n",
        "- Menentukan metode yang tepat untuk menangani data jika ada anomali (misalnya nilai ekstrem pada `Discount` atau `Total_Price`).  \n",
        "\n",
        "Langkah awal ini penting agar kita memahami karakteristik dasar dataset sebelum melakukan analisis lebih lanjut."
      ]
    },
    {
      "cell_type": "markdown",
      "metadata": {},
      "source": [
        "# **3. Pre-Processing Data**"
      ]
    },
    {
      "cell_type": "code",
      "execution_count": 5,
      "metadata": {},
      "outputs": [],
      "source": [
        "data.drop(columns=['Order_Date'], inplace=True)"
      ]
    },
    {
      "cell_type": "markdown",
      "metadata": {},
      "source": [
        "\n",
        "Karena saya menganggap fitur **`Order_Date`** tidak terlalu relevan atau tidak memberikan kontribusi signifikan dalam analisis atau pemodelan, saya memutuskan untuk menghapusnya dari dataset menggunakan **`drop`**. Dengan menghilangkan kolom ini, saya dapat mengurangi kompleksitas data dan memastikan hanya fitur yang benar-benar diperlukan yang digunakan dalam proses selanjutnya."
      ]
    },
    {
      "cell_type": "code",
      "execution_count": 6,
      "metadata": {},
      "outputs": [],
      "source": [
        "le_region = LabelEncoder()\n",
        "le_category = LabelEncoder()\n",
        "le_product = LabelEncoder()\n",
        "data['Region'] = le_region.fit_transform(data['Region'])\n",
        "data['Category'] = le_category.fit_transform(data[\"Category\"])\n",
        "data['Product'] = le_product.fit_transform(data[\"Product\"])"
      ]
    },
    {
      "cell_type": "markdown",
      "metadata": {},
      "source": [
        "Selanjutnya, saya melakukan **encoding** pada data kategorikal, khususnya pada fitur **`Region`**, **`Category`**, dan **`Product`**. Saya menggunakan **`LabelEncoder`** untuk mengubah setiap kategori dalam fitur-fitur tersebut menjadi representasi numerik.  \n",
        "\n",
        "Pendekatan ini memungkinkan model *machine learning*, yang umumnya hanya menerima input numerik, untuk mengolah variabel-variabel ini dengan lebih efisien tanpa kehilangan informasi kategorikalnya. Dengan **`LabelEncoder`**, setiap kategori unik dalam fitur-fitur tersebut dikonversi menjadi angka, sehingga proses pelatihan model dapat berjalan lebih optimal."
      ]
    },
    {
      "cell_type": "code",
      "execution_count": 7,
      "metadata": {},
      "outputs": [],
      "source": [
        "encoder = OneHotEncoder(sparse_output=False, drop='first')  # drop='first' untuk menghindari multikolinearitas\n",
        "encoded_region = encoder.fit_transform(data[['Customer_Type']])\n",
        "\n",
        "region_df = pd.DataFrame(encoded_region, columns=encoder.get_feature_names_out(['Customer_Type']))\n",
        "\n",
        "data = data.drop(columns=['Customer_Type']).reset_index(drop=True)\n",
        "data = pd.concat([data, region_df], axis=1)\n"
      ]
    },
    {
      "cell_type": "markdown",
      "metadata": {},
      "source": [
        "Selanjutnya, saya menerapkan **One Hot Encoding** pada fitur **`Customer_Type`**. Meskipun fitur ini hanya memiliki 2 kategori unik, proses ini tetap diperlukan agar setiap kategori dapat diwakili oleh nilai biner (0 atau 1) yang mudah dipahami oleh model. Selain itu, saya menggunakan parameter **`drop='first'`** untuk menghindari masalah *multicollinearity* atau *dummy variable trap*, di mana salah satu kolom akan menjadi *baseline* dan tidak perlu ditampilkan secara eksplisit. \n",
        "\n",
        "Dengan demikian, setelah proses ini, dataset akan memiliki kolom baru yang mewakili kategori **`Customer_Type`** secara numerik, sementara kolom aslinya sudah dihapus agar tidak menimbulkan redundansi."
      ]
    },
    {
      "cell_type": "code",
      "execution_count": 8,
      "metadata": {},
      "outputs": [
        {
          "name": "stdout",
          "output_type": "stream",
          "text": [
            "<class 'pandas.core.frame.DataFrame'>\n",
            "RangeIndex: 10000 entries, 0 to 9999\n",
            "Data columns (total 9 columns):\n",
            " #   Column             Non-Null Count  Dtype  \n",
            "---  ------             --------------  -----  \n",
            " 0   Product            10000 non-null  int32  \n",
            " 1   Category           10000 non-null  int32  \n",
            " 2   Unit_Price         10000 non-null  float64\n",
            " 3   Quantity           10000 non-null  float64\n",
            " 4   Discount           10000 non-null  float64\n",
            " 5   Total_Price        10000 non-null  float64\n",
            " 6   Region             10000 non-null  int32  \n",
            " 7   Cluster            10000 non-null  int64  \n",
            " 8   Customer_Type_B2C  10000 non-null  float64\n",
            "dtypes: float64(5), int32(3), int64(1)\n",
            "memory usage: 586.1 KB\n"
          ]
        }
      ],
      "source": [
        "data.info()"
      ]
    },
    {
      "cell_type": "markdown",
      "metadata": {},
      "source": [
        "Setelah proses **encoding** dan pembersihan data, saya kembali memeriksa struktur dataset menggunakan **`data.info()`**. Hasilnya menunjukkan bahwa dataset memiliki **10.000 entri** dan **9 kolom**, dengan tipe data sebagai berikut:  \n",
        "\n",
        "- Fitur kategorikal **(`Product`, `Category`, dan `Region`)** telah berhasil dikonversi menjadi tipe numerik (**int32**) menggunakan **`LabelEncoder`**.  \n",
        "- Fitur numerik seperti **`Unit_Price`**, **`Quantity`**, **`Discount`**, **`Total_Price`**, dan **`Customer_Type_B2C`** tetap dalam format **float64**.  \n",
        "- Fitur **`Cluster`** yang mungkin digunakan untuk segmentasi pelanggan memiliki tipe data **int64**.  \n",
        "\n",
        "Dengan demikian, semua fitur dalam dataset kini berada dalam format numerik yang siap untuk proses **preprocessing**, analisis lebih lanjut, atau pemodelan *machine learning*."
      ]
    },
    {
      "cell_type": "code",
      "execution_count": 9,
      "metadata": {},
      "outputs": [
        {
          "data": {
            "image/png": "[encoded data removed]",
            "text/plain": [
              "<Figure size 1200x800 with 4 Axes>"
            ]
          },
          "metadata": {},
          "output_type": "display_data"
        }
      ],
      "source": [
        "scaler = MinMaxScaler()\n",
        "columns_to_normalize = ['Unit_Price', 'Total_Price', 'Quantity', 'Discount']\n",
        "data[columns_to_normalize] = scaler.fit_transform(data[columns_to_normalize])\n",
        "\n",
        "# Plot histogram\n",
        "plt.figure(figsize=(12, 8))\n",
        "for i, col in enumerate(columns_to_normalize, 1):\n",
        "    plt.subplot(2, 2, i)\n",
        "    sns.histplot(data[col], bins=10, kde=True, color='skyblue')\n",
        "    plt.title(f'Histogram of {col}')\n",
        "    plt.xlabel(col)\n",
        "    plt.ylabel('Frequency')\n",
        "\n",
        "plt.tight_layout()\n",
        "plt.show()"
      ]
    },
    {
      "cell_type": "markdown",
      "metadata": {},
      "source": [
        "Terakhir, sebelum memasuki tahap pemodelan, saya melakukan **normalisasi data** menggunakan **`MinMaxScaler`** pada kolom-kolom numerik, yaitu **`Unit_Price`, `Total_Price`, `Quantity`, dan `Discount`**. Tujuan normalisasi ini adalah untuk **menskalakan** setiap fitur numerik ke rentang [0, 1], sehingga:\n",
        "\n",
        "1. **Rentang nilai** menjadi seragam dan tidak ada fitur yang memiliki skala jauh lebih besar dibandingkan fitur lainnya.  \n",
        "2. **Algoritma pemodelan**—terutama yang sensitif terhadap skala data (misalnya *k-Nearest Neighbors* atau *Neural Networks*)—dapat bekerja lebih optimal.  \n",
        "\n",
        "Setelah normalisasi, saya juga **memvisualisasikan histogram** untuk memeriksa distribusi data hasil normalisasi. Dengan demikian, kita bisa memastikan bahwa proses normalisasi berjalan sesuai harapan dan siap melanjutkan ke tahap pemodelan."
      ]
    },
    {
      "cell_type": "markdown",
      "metadata": {
        "id": "KkPem5eWL2UP"
      },
      "source": [
        "# **4. Data Splitting**"
      ]
    },
    {
      "cell_type": "code",
      "execution_count": 10,
      "metadata": {
        "id": "OubAW-7ONKVj"
      },
      "outputs": [],
      "source": [
        "#Type your code here\n",
        "\n",
        "X = data.drop(columns=[\"Cluster\"])  # Fitur\n",
        "y = data[\"Cluster\"]  # Target"
      ]
    },
    {
      "cell_type": "markdown",
      "metadata": {},
      "source": [
        "Sebelum memasuki tahap pemodelan, saya memisahkan dataset menjadi **fitur (X)** dan **target (y)**. Dalam kode ini, kolom **`Cluster`** digunakan sebagai target yang akan diprediksi (**y**), sementara **X** berisi semua kolom lainnya setelah menghapus **`Cluster`**. Dengan demikian, **X** hanya terdiri dari fitur yang akan digunakan untuk pelatihan model, sedangkan **y** menyimpan label kategori untuk setiap data. Tidak diperlukan proses *encoding* karena **`Cluster`** sudah berbentuk numerik dan dapat langsung digunakan dalam model *machine learning*."
      ]
    },
    {
      "cell_type": "code",
      "execution_count": 11,
      "metadata": {},
      "outputs": [],
      "source": [
        "X_train, X_test, y_train, y_test = train_test_split(X,y , random_state=42, test_size=0.3, shuffle=True) "
      ]
    },
    {
      "cell_type": "markdown",
      "metadata": {},
      "source": [
        "Saya membagi data menjadi **data latih (X_train, y_train)** dan **data uji (X_test, y_test)** dengan proporsi 70% data latih dan 30% data uji (ditentukan oleh `test_size=0.3`). Saya juga menggunakan parameter `shuffle=True` untuk mengacak urutan data sebelum pembagian, serta `random_state=42` agar proses pembagian ini **reproducible**—sehingga jika kode dijalankan kembali, hasil pembagian akan sama.  "
      ]
    },
    {
      "cell_type": "markdown",
      "metadata": {
        "id": "IVPbB03CMhTT"
      },
      "source": [
        "# **5. Membangun Model Klasifikasi**\n"
      ]
    },
    {
      "cell_type": "markdown",
      "metadata": {
        "id": "Ned1pL9zMmBK"
      },
      "source": [
        "## **a. Membangun Model Klasifikasi**"
      ]
    },
    {
      "cell_type": "markdown",
      "metadata": {
        "id": "WAWzPOE4Nkti"
      },
      "source": [
        "Setelah memilih algoritma klasifikasi yang sesuai, langkah selanjutnya adalah melatih model menggunakan data latih.\n",
        "\n",
        "Berikut adalah rekomendasi tahapannya.\n",
        "1. Pilih algoritma klasifikasi yang sesuai, seperti Logistic Regression, Decision Tree, Random Forest, atau K-Nearest Neighbors (KNN).\n",
        "2. Latih model menggunakan data latih."
      ]
    },
    {
      "cell_type": "code",
      "execution_count": 12,
      "metadata": {
        "id": "4JYxBe87NLDk"
      },
      "outputs": [
        {
          "name": "stderr",
          "output_type": "stream",
          "text": [
            "c:\\Users\\FX506\\AppData\\Local\\Programs\\Python\\Python311\\Lib\\site-packages\\sklearn\\linear_model\\_logistic.py:469: ConvergenceWarning: lbfgs failed to converge (status=1):\n",
            "STOP: TOTAL NO. of ITERATIONS REACHED LIMIT.\n",
            "\n",
            "Increase the number of iterations (max_iter) or scale the data as shown in:\n",
            "    https://scikit-learn.org/stable/modules/preprocessing.html\n",
            "Please also refer to the documentation for alternative solver options:\n",
            "    https://scikit-learn.org/stable/modules/linear_model.html#logistic-regression\n",
            "  n_iter_i = _check_optimize_result(\n"
          ]
        }
      ],
      "source": [
        "# 1. Logistic Regression\n",
        "lr = LogisticRegression(max_iter=1000, random_state=42)\n",
        "lr.fit(X_train, y_train)\n",
        "y_pred_lr = lr.predict(X_test)\n",
        "\n",
        "\n",
        "# 2. Random Forest Classifier\n",
        "rf = RandomForestClassifier(n_estimators=100, random_state=42)\n",
        "rf.fit(X_train, y_train)\n",
        "y_pred_rf = rf.predict(X_test)\n",
        "\n",
        "\n",
        "# 3. Multi Layer Perceptron\n",
        "mlp_model = MLPClassifier(random_state=42, max_iter=1000)  \n",
        "mlp_model.fit(X_train, y_train)\n",
        "y_pred_mlp = mlp_model.predict(X_test)\n"
      ]
    },
    {
      "cell_type": "markdown",
      "metadata": {
        "id": "seYoHNY3XU1y"
      },
      "source": [
        "Masuk ke dalam tahap pemodelan klasifikasi disini saya menggunakan **tiga algoritma klasifikasi** untuk memprediksi **Customer_Segment**:\n",
        "\n",
        "1. **Logistic Regression**  \n",
        "   - Menggunakan **regresi logistik** dengan parameter `max_iter=1000` dan `random_state=42`.  \n",
        "   - Setelah proses pelatihan dengan data latih (`X_train`, `y_train`), saya menghasilkan prediksi (`y_pred_lr`) pada data uji (`X_test`).\n",
        "\n",
        "2. **Random Forest Classifier**  \n",
        "   - Model **ensemble** yang terdiri dari banyak *decision tree* dengan `n_estimators=100` dan `random_state=42`.  \n",
        "   - Dilatih pada data latih, kemudian digunakan untuk memprediksi data uji (`y_pred_rf`).\n",
        "\n",
        "3. **Multi Layer Perceptron (MLP)**  \n",
        "   - **Neural Network** sederhana dengan parameter `max_iter=1000` dan `random_state=42`.  \n",
        "   - Dilatih dengan data latih, dan prediksi dihasilkan untuk data uji (`y_pred_mlp`).\n",
        "\n",
        "Dengan menggunakan ketiga model ini, saya dapat membandingkan kinerja dan memilih model yang paling baik dalam memprediksi **Customer_Segment**."
      ]
    },
    {
      "cell_type": "markdown",
      "metadata": {
        "id": "ergzChZFEL-O"
      },
      "source": [
        "## **b. Evaluasi Model Klasifikasi**"
      ]
    },
    {
      "cell_type": "code",
      "execution_count": 13,
      "metadata": {
        "id": "tMq4QAssNLip"
      },
      "outputs": [
        {
          "name": "stdout",
          "output_type": "stream",
          "text": [
            "Logistic Regression\n",
            "Accuracy: 0.9346666666666666\n",
            "              precision    recall  f1-score   support\n",
            "\n",
            "           0       1.00      1.00      1.00       368\n",
            "           1       0.87      0.99      0.93       371\n",
            "           2       0.96      0.59      0.73       185\n",
            "           3       0.96      0.96      0.96       387\n",
            "           4       1.00      1.00      1.00       328\n",
            "           5       0.89      0.98      0.94       187\n",
            "           6       0.90      1.00      0.94       367\n",
            "           7       0.99      0.59      0.74       198\n",
            "           8       1.00      1.00      1.00       211\n",
            "           9       0.87      0.96      0.92       398\n",
            "\n",
            "    accuracy                           0.93      3000\n",
            "   macro avg       0.94      0.91      0.92      3000\n",
            "weighted avg       0.94      0.93      0.93      3000\n",
            "\n",
            "\n",
            "\n",
            "Random Forest Classifier\n",
            "Accuracy: 0.9563333333333334\n",
            "              precision    recall  f1-score   support\n",
            "\n",
            "           0       1.00      1.00      1.00       368\n",
            "           1       0.98      1.00      0.99       371\n",
            "           2       0.83      0.78      0.80       185\n",
            "           3       0.99      1.00      1.00       387\n",
            "           4       0.98      1.00      0.99       328\n",
            "           5       0.73      0.82      0.77       187\n",
            "           6       1.00      1.00      1.00       367\n",
            "           7       0.99      0.96      0.98       198\n",
            "           8       0.91      0.79      0.84       211\n",
            "           9       0.98      0.99      0.99       398\n",
            "\n",
            "    accuracy                           0.96      3000\n",
            "   macro avg       0.94      0.93      0.94      3000\n",
            "weighted avg       0.96      0.96      0.96      3000\n",
            "\n",
            "\n",
            "\n",
            "MLP Classifier\n",
            "Accuracy: 1.0\n",
            "              precision    recall  f1-score   support\n",
            "\n",
            "           0       1.00      1.00      1.00       368\n",
            "           1       1.00      1.00      1.00       371\n",
            "           2       1.00      1.00      1.00       185\n",
            "           3       1.00      1.00      1.00       387\n",
            "           4       1.00      1.00      1.00       328\n",
            "           5       1.00      1.00      1.00       187\n",
            "           6       1.00      1.00      1.00       367\n",
            "           7       1.00      1.00      1.00       198\n",
            "           8       1.00      1.00      1.00       211\n",
            "           9       1.00      1.00      1.00       398\n",
            "\n",
            "    accuracy                           1.00      3000\n",
            "   macro avg       1.00      1.00      1.00      3000\n",
            "weighted avg       1.00      1.00      1.00      3000\n",
            "\n"
          ]
        }
      ],
      "source": [
        "#Type your code here\n",
        "\n",
        "print(\"Logistic Regression\")\n",
        "print(\"Accuracy:\", accuracy_score(y_test, y_pred_lr))\n",
        "print(classification_report(y_test, y_pred_lr))\n",
        "print(\"\\n\")\n",
        "\n",
        "print(\"Random Forest Classifier\")\n",
        "print(\"Accuracy:\", accuracy_score(y_test, y_pred_rf))\n",
        "print(classification_report(y_test, y_pred_rf))\n",
        "print(\"\\n\")\n",
        "\n",
        "print(\"MLP Classifier\")\n",
        "print(\"Accuracy:\", accuracy_score(y_test, y_pred_mlp))\n",
        "print(classification_report(y_test, y_pred_mlp))"
      ]
    },
    {
      "cell_type": "markdown",
      "metadata": {},
      "source": [
        "### **Evaluasi Model Klasifikasi**  \n",
        "\n",
        "1. **Logistic Regression**  \n",
        "   - Model ini mencapai **akurasi 93.47%**, yang menunjukkan performa yang cukup baik dalam mengklasifikasikan data.  \n",
        "   - **Precision**, **recall**, dan **f1-score** bervariasi antar kelas. Beberapa kelas seperti **kelas 0, 4, dan 8** memiliki skor sempurna, sementara kelas lain seperti **kelas 2 dan 7** memiliki **recall yang lebih rendah**, menunjukkan bahwa model kesulitan dalam mengenali beberapa kategori dengan benar.  \n",
        "   - Model ini cocok untuk masalah klasifikasi dengan batas keputusan yang **linear**, tetapi tampaknya masih ada **tantangan dalam membedakan beberapa kelas tertentu**.  \n",
        "\n",
        "2. **Random Forest Classifier**  \n",
        "   - Model ini mencapai **akurasi 95.63%**, lebih tinggi dibandingkan Logistic Regression.  \n",
        "   - Performanya **lebih konsisten di semua kelas**, dengan **precision, recall, dan f1-score yang cukup tinggi**.  \n",
        "   - Beberapa kelas seperti **kelas 2 dan 5** memiliki **recall yang lebih rendah**, yang mengindikasikan bahwa model masih mengalami kesulitan dalam mendeteksi beberapa kategori tertentu.  \n",
        "   - Random Forest menawarkan **fleksibilitas lebih baik dibandingkan Logistic Regression** karena mampu menangani hubungan non-linear antara fitur dan target.  \n",
        "\n",
        "3. **MLP Classifier (Neural Network)**  \n",
        "   - Model ini mencapai **akurasi sempurna (100%)**, dengan **precision, recall, dan f1-score = 1.00 di semua kelas**.  \n",
        "   - Hasil ini **terlalu sempurna**, yang bisa menjadi indikasi bahwa model mengalami **overfitting** atau terdapat **data leakage** (fitur yang terlalu informatif sehingga model bisa menghafal data tanpa benar-benar belajar pola yang sesungguhnya).  \n",
        "   - Perlu dilakukan **validasi lebih lanjut** menggunakan teknik seperti **cross-validation atau pengujian dengan data baru** untuk memastikan bahwa model benar-benar memiliki generalisasi yang baik.  \n",
        "\n"
      ]
    },
    {
      "cell_type": "markdown",
      "metadata": {},
      "source": [
        "### **Kesimpulan**  \n",
        "- **Random Forest** memiliki performa terbaik yang lebih realistis dibandingkan Logistic Regression dan lebih **tahan terhadap overfitting** dibandingkan MLP.  \n",
        "- **MLP perlu dicek ulang** apakah ada overfitting atau data leakage karena mencapai akurasi sempurna.  \n",
        "- **Pemilihan model tergantung pada kebutuhan**: Jika ingin interpretabilitas lebih tinggi, **Logistic Regression** masih cukup baik, tetapi jika ingin akurasi lebih tinggi dengan kemampuan menangani hubungan non-linear, **Random Forest bisa menjadi pilihan yang lebih baik**."
      ]
    },
    {
      "cell_type": "markdown",
      "metadata": {
        "id": "ph9yIYDXEPuB"
      },
      "source": [
        "## **c. Tuning Model Klasifikasi (Optional)**"
      ]
    },
    {
      "cell_type": "code",
      "execution_count": 14,
      "metadata": {
        "id": "winbFzb8NL95"
      },
      "outputs": [
        {
          "name": "stderr",
          "output_type": "stream",
          "text": [
            "c:\\Users\\FX506\\AppData\\Local\\Programs\\Python\\Python311\\Lib\\site-packages\\sklearn\\linear_model\\_logistic.py:469: ConvergenceWarning: lbfgs failed to converge (status=1):\n",
            "STOP: TOTAL NO. of ITERATIONS REACHED LIMIT.\n",
            "\n",
            "Increase the number of iterations (max_iter) or scale the data as shown in:\n",
            "    https://scikit-learn.org/stable/modules/preprocessing.html\n",
            "Please also refer to the documentation for alternative solver options:\n",
            "    https://scikit-learn.org/stable/modules/linear_model.html#logistic-regression\n",
            "  n_iter_i = _check_optimize_result(\n"
          ]
        },
        {
          "data": {
            "text/html": [
              "<style>#sk-container-id-1 {\n",
              "  /* Definition of color scheme common for light and dark mode */\n",
              "  --sklearn-color-text: black;\n",
              "  --sklearn-color-line: gray;\n",
              "  /* Definition of color scheme for unfitted estimators */\n",
              "  --sklearn-color-unfitted-level-0: #fff5e6;\n",
              "  --sklearn-color-unfitted-level-1: #f6e4d2;\n",
              "  --sklearn-color-unfitted-level-2: #ffe0b3;\n",
              "  --sklearn-color-unfitted-level-3: chocolate;\n",
              "  /* Definition of color scheme for fitted estimators */\n",
              "  --sklearn-color-fitted-level-0: #f0f8ff;\n",
              "  --sklearn-color-fitted-level-1: #d4ebff;\n",
              "  --sklearn-color-fitted-level-2: #b3dbfd;\n",
              "  --sklearn-color-fitted-level-3: cornflowerblue;\n",
              "\n",
              "  /* Specific color for light theme */\n",
              "  --sklearn-color-text-on-default-background: var(--sg-text-color, var(--theme-code-foreground, var(--jp-content-font-color1, black)));\n",
              "  --sklearn-color-background: var(--sg-background-color, var(--theme-background, var(--jp-layout-color0, white)));\n",
              "  --sklearn-color-border-box: var(--sg-text-color, var(--theme-code-foreground, var(--jp-content-font-color1, black)));\n",
              "  --sklearn-color-icon: #696969;\n",
              "\n",
              "  @media (prefers-color-scheme: dark) {\n",
              "    /* Redefinition of color scheme for dark theme */\n",
              "    --sklearn-color-text-on-default-background: var(--sg-text-color, var(--theme-code-foreground, var(--jp-content-font-color1, white)));\n",
              "    --sklearn-color-background: var(--sg-background-color, var(--theme-background, var(--jp-layout-color0, #111)));\n",
              "    --sklearn-color-border-box: var(--sg-text-color, var(--theme-code-foreground, var(--jp-content-font-color1, white)));\n",
              "    --sklearn-color-icon: #878787;\n",
              "  }\n",
              "}\n",
              "\n",
              "#sk-container-id-1 {\n",
              "  color: var(--sklearn-color-text);\n",
              "}\n",
              "\n",
              "#sk-container-id-1 pre {\n",
              "  padding: 0;\n",
              "}\n",
              "\n",
              "#sk-container-id-1 input.sk-hidden--visually {\n",
              "  border: 0;\n",
              "  clip: rect(1px 1px 1px 1px);\n",
              "  clip: rect(1px, 1px, 1px, 1px);\n",
              "  height: 1px;\n",
              "  margin: -1px;\n",
              "  overflow: hidden;\n",
              "  padding: 0;\n",
              "  position: absolute;\n",
              "  width: 1px;\n",
              "}\n",
              "\n",
              "#sk-container-id-1 div.sk-dashed-wrapped {\n",
              "  border: 1px dashed var(--sklearn-color-line);\n",
              "  margin: 0 0.4em 0.5em 0.4em;\n",
              "  box-sizing: border-box;\n",
              "  padding-bottom: 0.4em;\n",
              "  background-color: var(--sklearn-color-background);\n",
              "}\n",
              "\n",
              "#sk-container-id-1 div.sk-container {\n",
              "  /* jupyter's `normalize.less` sets `[hidden] { display: none; }`\n",
              "     but bootstrap.min.css set `[hidden] { display: none !important; }`\n",
              "     so we also need the `!important` here to be able to override the\n",
              "     default hidden behavior on the sphinx rendered scikit-learn.org.\n",
              "     See: https://github.com/scikit-learn/scikit-learn/issues/21755 */\n",
              "  display: inline-block !important;\n",
              "  position: relative;\n",
              "}\n",
              "\n",
              "#sk-container-id-1 div.sk-text-repr-fallback {\n",
              "  display: none;\n",
              "}\n",
              "\n",
              "div.sk-parallel-item,\n",
              "div.sk-serial,\n",
              "div.sk-item {\n",
              "  /* draw centered vertical line to link estimators */\n",
              "  background-image: linear-gradient(var(--sklearn-color-text-on-default-background), var(--sklearn-color-text-on-default-background));\n",
              "  background-size: 2px 100%;\n",
              "  background-repeat: no-repeat;\n",
              "  background-position: center center;\n",
              "}\n",
              "\n",
              "/* Parallel-specific style estimator block */\n",
              "\n",
              "#sk-container-id-1 div.sk-parallel-item::after {\n",
              "  content: \"\";\n",
              "  width: 100%;\n",
              "  border-bottom: 2px solid var(--sklearn-color-text-on-default-background);\n",
              "  flex-grow: 1;\n",
              "}\n",
              "\n",
              "#sk-container-id-1 div.sk-parallel {\n",
              "  display: flex;\n",
              "  align-items: stretch;\n",
              "  justify-content: center;\n",
              "  background-color: var(--sklearn-color-background);\n",
              "  position: relative;\n",
              "}\n",
              "\n",
              "#sk-container-id-1 div.sk-parallel-item {\n",
              "  display: flex;\n",
              "  flex-direction: column;\n",
              "}\n",
              "\n",
              "#sk-container-id-1 div.sk-parallel-item:first-child::after {\n",
              "  align-self: flex-end;\n",
              "  width: 50%;\n",
              "}\n",
              "\n",
              "#sk-container-id-1 div.sk-parallel-item:last-child::after {\n",
              "  align-self: flex-start;\n",
              "  width: 50%;\n",
              "}\n",
              "\n",
              "#sk-container-id-1 div.sk-parallel-item:only-child::after {\n",
              "  width: 0;\n",
              "}\n",
              "\n",
              "/* Serial-specific style estimator block */\n",
              "\n",
              "#sk-container-id-1 div.sk-serial {\n",
              "  display: flex;\n",
              "  flex-direction: column;\n",
              "  align-items: center;\n",
              "  background-color: var(--sklearn-color-background);\n",
              "  padding-right: 1em;\n",
              "  padding-left: 1em;\n",
              "}\n",
              "\n",
              "\n",
              "/* Toggleable style: style used for estimator/Pipeline/ColumnTransformer box that is\n",
              "clickable and can be expanded/collapsed.\n",
              "- Pipeline and ColumnTransformer use this feature and define the default style\n",
              "- Estimators will overwrite some part of the style using the `sk-estimator` class\n",
              "*/\n",
              "\n",
              "/* Pipeline and ColumnTransformer style (default) */\n",
              "\n",
              "#sk-container-id-1 div.sk-toggleable {\n",
              "  /* Default theme specific background. It is overwritten whether we have a\n",
              "  specific estimator or a Pipeline/ColumnTransformer */\n",
              "  background-color: var(--sklearn-color-background);\n",
              "}\n",
              "\n",
              "/* Toggleable label */\n",
              "#sk-container-id-1 label.sk-toggleable__label {\n",
              "  cursor: pointer;\n",
              "  display: block;\n",
              "  width: 100%;\n",
              "  margin-bottom: 0;\n",
              "  padding: 0.5em;\n",
              "  box-sizing: border-box;\n",
              "  text-align: center;\n",
              "}\n",
              "\n",
              "#sk-container-id-1 label.sk-toggleable__label-arrow:before {\n",
              "  /* Arrow on the left of the label */\n",
              "  content: \"▸\";\n",
              "  float: left;\n",
              "  margin-right: 0.25em;\n",
              "  color: var(--sklearn-color-icon);\n",
              "}\n",
              "\n",
              "#sk-container-id-1 label.sk-toggleable__label-arrow:hover:before {\n",
              "  color: var(--sklearn-color-text);\n",
              "}\n",
              "\n",
              "/* Toggleable content - dropdown */\n",
              "\n",
              "#sk-container-id-1 div.sk-toggleable__content {\n",
              "  max-height: 0;\n",
              "  max-width: 0;\n",
              "  overflow: hidden;\n",
              "  text-align: left;\n",
              "  /* unfitted */\n",
              "  background-color: var(--sklearn-color-unfitted-level-0);\n",
              "}\n",
              "\n",
              "#sk-container-id-1 div.sk-toggleable__content.fitted {\n",
              "  /* fitted */\n",
              "  background-color: var(--sklearn-color-fitted-level-0);\n",
              "}\n",
              "\n",
              "#sk-container-id-1 div.sk-toggleable__content pre {\n",
              "  margin: 0.2em;\n",
              "  border-radius: 0.25em;\n",
              "  color: var(--sklearn-color-text);\n",
              "  /* unfitted */\n",
              "  background-color: var(--sklearn-color-unfitted-level-0);\n",
              "}\n",
              "\n",
              "#sk-container-id-1 div.sk-toggleable__content.fitted pre {\n",
              "  /* unfitted */\n",
              "  background-color: var(--sklearn-color-fitted-level-0);\n",
              "}\n",
              "\n",
              "#sk-container-id-1 input.sk-toggleable__control:checked~div.sk-toggleable__content {\n",
              "  /* Expand drop-down */\n",
              "  max-height: 200px;\n",
              "  max-width: 100%;\n",
              "  overflow: auto;\n",
              "}\n",
              "\n",
              "#sk-container-id-1 input.sk-toggleable__control:checked~label.sk-toggleable__label-arrow:before {\n",
              "  content: \"▾\";\n",
              "}\n",
              "\n",
              "/* Pipeline/ColumnTransformer-specific style */\n",
              "\n",
              "#sk-container-id-1 div.sk-label input.sk-toggleable__control:checked~label.sk-toggleable__label {\n",
              "  color: var(--sklearn-color-text);\n",
              "  background-color: var(--sklearn-color-unfitted-level-2);\n",
              "}\n",
              "\n",
              "#sk-container-id-1 div.sk-label.fitted input.sk-toggleable__control:checked~label.sk-toggleable__label {\n",
              "  background-color: var(--sklearn-color-fitted-level-2);\n",
              "}\n",
              "\n",
              "/* Estimator-specific style */\n",
              "\n",
              "/* Colorize estimator box */\n",
              "#sk-container-id-1 div.sk-estimator input.sk-toggleable__control:checked~label.sk-toggleable__label {\n",
              "  /* unfitted */\n",
              "  background-color: var(--sklearn-color-unfitted-level-2);\n",
              "}\n",
              "\n",
              "#sk-container-id-1 div.sk-estimator.fitted input.sk-toggleable__control:checked~label.sk-toggleable__label {\n",
              "  /* fitted */\n",
              "  background-color: var(--sklearn-color-fitted-level-2);\n",
              "}\n",
              "\n",
              "#sk-container-id-1 div.sk-label label.sk-toggleable__label,\n",
              "#sk-container-id-1 div.sk-label label {\n",
              "  /* The background is the default theme color */\n",
              "  color: var(--sklearn-color-text-on-default-background);\n",
              "}\n",
              "\n",
              "/* On hover, darken the color of the background */\n",
              "#sk-container-id-1 div.sk-label:hover label.sk-toggleable__label {\n",
              "  color: var(--sklearn-color-text);\n",
              "  background-color: var(--sklearn-color-unfitted-level-2);\n",
              "}\n",
              "\n",
              "/* Label box, darken color on hover, fitted */\n",
              "#sk-container-id-1 div.sk-label.fitted:hover label.sk-toggleable__label.fitted {\n",
              "  color: var(--sklearn-color-text);\n",
              "  background-color: var(--sklearn-color-fitted-level-2);\n",
              "}\n",
              "\n",
              "/* Estimator label */\n",
              "\n",
              "#sk-container-id-1 div.sk-label label {\n",
              "  font-family: monospace;\n",
              "  font-weight: bold;\n",
              "  display: inline-block;\n",
              "  line-height: 1.2em;\n",
              "}\n",
              "\n",
              "#sk-container-id-1 div.sk-label-container {\n",
              "  text-align: center;\n",
              "}\n",
              "\n",
              "/* Estimator-specific */\n",
              "#sk-container-id-1 div.sk-estimator {\n",
              "  font-family: monospace;\n",
              "  border: 1px dotted var(--sklearn-color-border-box);\n",
              "  border-radius: 0.25em;\n",
              "  box-sizing: border-box;\n",
              "  margin-bottom: 0.5em;\n",
              "  /* unfitted */\n",
              "  background-color: var(--sklearn-color-unfitted-level-0);\n",
              "}\n",
              "\n",
              "#sk-container-id-1 div.sk-estimator.fitted {\n",
              "  /* fitted */\n",
              "  background-color: var(--sklearn-color-fitted-level-0);\n",
              "}\n",
              "\n",
              "/* on hover */\n",
              "#sk-container-id-1 div.sk-estimator:hover {\n",
              "  /* unfitted */\n",
              "  background-color: var(--sklearn-color-unfitted-level-2);\n",
              "}\n",
              "\n",
              "#sk-container-id-1 div.sk-estimator.fitted:hover {\n",
              "  /* fitted */\n",
              "  background-color: var(--sklearn-color-fitted-level-2);\n",
              "}\n",
              "\n",
              "/* Specification for estimator info (e.g. \"i\" and \"?\") */\n",
              "\n",
              "/* Common style for \"i\" and \"?\" */\n",
              "\n",
              ".sk-estimator-doc-link,\n",
              "a:link.sk-estimator-doc-link,\n",
              "a:visited.sk-estimator-doc-link {\n",
              "  float: right;\n",
              "  font-size: smaller;\n",
              "  line-height: 1em;\n",
              "  font-family: monospace;\n",
              "  background-color: var(--sklearn-color-background);\n",
              "  border-radius: 1em;\n",
              "  height: 1em;\n",
              "  width: 1em;\n",
              "  text-decoration: none !important;\n",
              "  margin-left: 1ex;\n",
              "  /* unfitted */\n",
              "  border: var(--sklearn-color-unfitted-level-1) 1pt solid;\n",
              "  color: var(--sklearn-color-unfitted-level-1);\n",
              "}\n",
              "\n",
              ".sk-estimator-doc-link.fitted,\n",
              "a:link.sk-estimator-doc-link.fitted,\n",
              "a:visited.sk-estimator-doc-link.fitted {\n",
              "  /* fitted */\n",
              "  border: var(--sklearn-color-fitted-level-1) 1pt solid;\n",
              "  color: var(--sklearn-color-fitted-level-1);\n",
              "}\n",
              "\n",
              "/* On hover */\n",
              "div.sk-estimator:hover .sk-estimator-doc-link:hover,\n",
              ".sk-estimator-doc-link:hover,\n",
              "div.sk-label-container:hover .sk-estimator-doc-link:hover,\n",
              ".sk-estimator-doc-link:hover {\n",
              "  /* unfitted */\n",
              "  background-color: var(--sklearn-color-unfitted-level-3);\n",
              "  color: var(--sklearn-color-background);\n",
              "  text-decoration: none;\n",
              "}\n",
              "\n",
              "div.sk-estimator.fitted:hover .sk-estimator-doc-link.fitted:hover,\n",
              ".sk-estimator-doc-link.fitted:hover,\n",
              "div.sk-label-container:hover .sk-estimator-doc-link.fitted:hover,\n",
              ".sk-estimator-doc-link.fitted:hover {\n",
              "  /* fitted */\n",
              "  background-color: var(--sklearn-color-fitted-level-3);\n",
              "  color: var(--sklearn-color-background);\n",
              "  text-decoration: none;\n",
              "}\n",
              "\n",
              "/* Span, style for the box shown on hovering the info icon */\n",
              ".sk-estimator-doc-link span {\n",
              "  display: none;\n",
              "  z-index: 9999;\n",
              "  position: relative;\n",
              "  font-weight: normal;\n",
              "  right: .2ex;\n",
              "  padding: .5ex;\n",
              "  margin: .5ex;\n",
              "  width: min-content;\n",
              "  min-width: 20ex;\n",
              "  max-width: 50ex;\n",
              "  color: var(--sklearn-color-text);\n",
              "  box-shadow: 2pt 2pt 4pt #999;\n",
              "  /* unfitted */\n",
              "  background: var(--sklearn-color-unfitted-level-0);\n",
              "  border: .5pt solid var(--sklearn-color-unfitted-level-3);\n",
              "}\n",
              "\n",
              ".sk-estimator-doc-link.fitted span {\n",
              "  /* fitted */\n",
              "  background: var(--sklearn-color-fitted-level-0);\n",
              "  border: var(--sklearn-color-fitted-level-3);\n",
              "}\n",
              "\n",
              ".sk-estimator-doc-link:hover span {\n",
              "  display: block;\n",
              "}\n",
              "\n",
              "/* \"?\"-specific style due to the `<a>` HTML tag */\n",
              "\n",
              "#sk-container-id-1 a.estimator_doc_link {\n",
              "  float: right;\n",
              "  font-size: 1rem;\n",
              "  line-height: 1em;\n",
              "  font-family: monospace;\n",
              "  background-color: var(--sklearn-color-background);\n",
              "  border-radius: 1rem;\n",
              "  height: 1rem;\n",
              "  width: 1rem;\n",
              "  text-decoration: none;\n",
              "  /* unfitted */\n",
              "  color: var(--sklearn-color-unfitted-level-1);\n",
              "  border: var(--sklearn-color-unfitted-level-1) 1pt solid;\n",
              "}\n",
              "\n",
              "#sk-container-id-1 a.estimator_doc_link.fitted {\n",
              "  /* fitted */\n",
              "  border: var(--sklearn-color-fitted-level-1) 1pt solid;\n",
              "  color: var(--sklearn-color-fitted-level-1);\n",
              "}\n",
              "\n",
              "/* On hover */\n",
              "#sk-container-id-1 a.estimator_doc_link:hover {\n",
              "  /* unfitted */\n",
              "  background-color: var(--sklearn-color-unfitted-level-3);\n",
              "  color: var(--sklearn-color-background);\n",
              "  text-decoration: none;\n",
              "}\n",
              "\n",
              "#sk-container-id-1 a.estimator_doc_link.fitted:hover {\n",
              "  /* fitted */\n",
              "  background-color: var(--sklearn-color-fitted-level-3);\n",
              "}\n",
              "</style><div id=\"sk-container-id-1\" class=\"sk-top-container\"><div class=\"sk-text-repr-fallback\"><pre>GridSearchCV(cv=5, estimator=MLPClassifier(max_iter=1000, random_state=42),\n",
              "             n_jobs=-1,\n",
              "             param_grid={&#x27;activation&#x27;: [&#x27;relu&#x27;, &#x27;tanh&#x27;],\n",
              "                         &#x27;hidden_layer_sizes&#x27;: [(50,), (50, 50), (100,)],\n",
              "                         &#x27;learning_rate&#x27;: [&#x27;constant&#x27;, &#x27;adaptive&#x27;],\n",
              "                         &#x27;solver&#x27;: [&#x27;adam&#x27;, &#x27;sgd&#x27;]},\n",
              "             scoring=&#x27;accuracy&#x27;)</pre><b>In a Jupyter environment, please rerun this cell to show the HTML representation or trust the notebook. <br />On GitHub, the HTML representation is unable to render, please try loading this page with nbviewer.org.</b></div><div class=\"sk-container\" hidden><div class=\"sk-item sk-dashed-wrapped\"><div class=\"sk-label-container\"><div class=\"sk-label fitted sk-toggleable\"><input class=\"sk-toggleable__control sk-hidden--visually\" id=\"sk-estimator-id-1\" type=\"checkbox\" ><label for=\"sk-estimator-id-1\" class=\"sk-toggleable__label fitted sk-toggleable__label-arrow fitted\">&nbsp;&nbsp;GridSearchCV<a class=\"sk-estimator-doc-link fitted\" rel=\"noreferrer\" target=\"_blank\" href=\"https://scikit-learn.org/1.4/modules/generated/sklearn.model_selection.GridSearchCV.html\">?<span>Documentation for GridSearchCV</span></a><span class=\"sk-estimator-doc-link fitted\">i<span>Fitted</span></span></label><div class=\"sk-toggleable__content fitted\"><pre>GridSearchCV(cv=5, estimator=MLPClassifier(max_iter=1000, random_state=42),\n",
              "             n_jobs=-1,\n",
              "             param_grid={&#x27;activation&#x27;: [&#x27;relu&#x27;, &#x27;tanh&#x27;],\n",
              "                         &#x27;hidden_layer_sizes&#x27;: [(50,), (50, 50), (100,)],\n",
              "                         &#x27;learning_rate&#x27;: [&#x27;constant&#x27;, &#x27;adaptive&#x27;],\n",
              "                         &#x27;solver&#x27;: [&#x27;adam&#x27;, &#x27;sgd&#x27;]},\n",
              "             scoring=&#x27;accuracy&#x27;)</pre></div> </div></div><div class=\"sk-parallel\"><div class=\"sk-parallel-item\"><div class=\"sk-item\"><div class=\"sk-label-container\"><div class=\"sk-label fitted sk-toggleable\"><input class=\"sk-toggleable__control sk-hidden--visually\" id=\"sk-estimator-id-2\" type=\"checkbox\" ><label for=\"sk-estimator-id-2\" class=\"sk-toggleable__label fitted sk-toggleable__label-arrow fitted\">estimator: MLPClassifier</label><div class=\"sk-toggleable__content fitted\"><pre>MLPClassifier(max_iter=1000, random_state=42)</pre></div> </div></div><div class=\"sk-serial\"><div class=\"sk-item\"><div class=\"sk-estimator fitted sk-toggleable\"><input class=\"sk-toggleable__control sk-hidden--visually\" id=\"sk-estimator-id-3\" type=\"checkbox\" ><label for=\"sk-estimator-id-3\" class=\"sk-toggleable__label fitted sk-toggleable__label-arrow fitted\">&nbsp;MLPClassifier<a class=\"sk-estimator-doc-link fitted\" rel=\"noreferrer\" target=\"_blank\" href=\"https://scikit-learn.org/1.4/modules/generated/sklearn.neural_network.MLPClassifier.html\">?<span>Documentation for MLPClassifier</span></a></label><div class=\"sk-toggleable__content fitted\"><pre>MLPClassifier(max_iter=1000, random_state=42)</pre></div> </div></div></div></div></div></div></div></div></div>"
            ],
            "text/plain": [
              "GridSearchCV(cv=5, estimator=MLPClassifier(max_iter=1000, random_state=42),\n",
              "             n_jobs=-1,\n",
              "             param_grid={'activation': ['relu', 'tanh'],\n",
              "                         'hidden_layer_sizes': [(50,), (50, 50), (100,)],\n",
              "                         'learning_rate': ['constant', 'adaptive'],\n",
              "                         'solver': ['adam', 'sgd']},\n",
              "             scoring='accuracy')"
            ]
          },
          "execution_count": 14,
          "metadata": {},
          "output_type": "execute_result"
        }
      ],
      "source": [
        "#Type your code here\n",
        "\n",
        "# 1. Logistic Regression dengan GridSearchCV\n",
        "param_grid_lr = {\n",
        "    'C': [0.01, 0.1, 1, 10, 100],\n",
        "    'penalty': ['l2'],  # untuk l1 gunakan solver liblinear\n",
        "    'solver': ['lbfgs', 'liblinear']\n",
        "}\n",
        "\n",
        "grid_lr = GridSearchCV(LogisticRegression(max_iter=1000, random_state=42),\n",
        "                         param_grid_lr, cv=5, scoring='accuracy', n_jobs=-1)\n",
        "grid_lr.fit(X_train, y_train)\n",
        "\n",
        "\n",
        "# 2. Random Forest Classifier dengan RandomizedSearchCV\n",
        "param_dist_rf = {\n",
        "    'n_estimators': [50, 100, 200],\n",
        "    'max_depth': [None, 5, 10, 20],\n",
        "    'min_samples_split': [2, 5, 10],\n",
        "    'min_samples_leaf': [1, 2, 4],\n",
        "    'bootstrap': [True, False]\n",
        "}\n",
        "\n",
        "rand_rf = RandomizedSearchCV(RandomForestClassifier(random_state=42),\n",
        "                             param_distributions=param_dist_rf,\n",
        "                             n_iter=20, cv=5, scoring='accuracy', n_jobs=-1, random_state=42)\n",
        "rand_rf.fit(X_train, y_train)\n",
        "\n",
        "\n",
        "\n",
        "from sklearn.model_selection import GridSearchCV\n",
        "\n",
        "# Contoh parameter grid\n",
        "param_grid_mlp = {\n",
        "    'hidden_layer_sizes': [(50,), (50, 50), (100,)],   # Contoh variasi layer\n",
        "    'activation': ['relu', 'tanh'],\n",
        "    'solver': ['adam', 'sgd'],\n",
        "    'learning_rate': ['constant', 'adaptive']\n",
        "}\n",
        "\n",
        "mlp_grid = GridSearchCV(\n",
        "    MLPClassifier(random_state=42, max_iter=1000),\n",
        "    param_grid_mlp,\n",
        "    cv=5,              \n",
        "    scoring='accuracy',\n",
        "    n_jobs=-1          \n",
        ")\n",
        "\n",
        "mlp_grid.fit(X_train, y_train)\n"
      ]
    },
    {
      "cell_type": "markdown",
      "metadata": {},
      "source": [
        "Selanjutnya, saya kembali menerapkan **tiga algoritma** tersebut (**Logistic Regression**, **Random Forest**, dan **MLP**) namun dengan **strategi hyperparameter tuning**. Tujuannya adalah untuk mencari kombinasi parameter yang **optimal**, sehingga kinerja model dapat meningkat. Berikut pendekatan yang dilakukan:\n",
        "\n",
        "1. **Logistic Regression (GridSearchCV)**  \n",
        "   - Saya menggunakan **GridSearchCV** dengan beberapa variasi parameter seperti `C`, `penalty`, dan `solver`.  \n",
        "   - **GridSearchCV** akan mencoba semua kombinasi parameter dalam `param_grid_lr` menggunakan *k-fold cross-validation*, lalu memilih kombinasi dengan **akurasi** terbaik.\n",
        "\n",
        "2. **Random Forest Classifier (RandomizedSearchCV)**  \n",
        "   - Untuk **Random Forest**, saya memanfaatkan **RandomizedSearchCV**, di mana parameter seperti `n_estimators`, `max_depth`, `min_samples_split`, `min_samples_leaf`, dan `bootstrap` di-*sampling* secara acak dari daftar yang ditentukan.  \n",
        "   - **RandomizedSearchCV** lebih efisien daripada GridSearchCV ketika ruang parameter cukup besar, karena tidak mencoba semua kombinasi melainkan **hanya sejumlah iterasi** (ditentukan oleh `n_iter`).\n",
        "\n",
        "3. **MLPClassifier (GridSearchCV)**  \n",
        "   - Untuk **MLP**, saya kembali menggunakan **GridSearchCV** dengan variasi parameter `hidden_layer_sizes`, `activation`, `solver`, dan `learning_rate`.  \n",
        "   - Prosesnya serupa dengan Logistic Regression, yaitu memeriksa semua kombinasi parameter lalu memilih yang terbaik berdasarkan **akurasi**.\n",
        "\n",
        "Dengan cara ini, setiap model berpeluang menunjukkan performa maksimal setelah melalui pencarian parameter terbaik, dibandingkan dengan penggunaan parameter default."
      ]
    },
    {
      "cell_type": "markdown",
      "metadata": {
        "id": "hE7pqlEPEYzI"
      },
      "source": [
        "## **d. Evaluasi Model Klasifikasi setelah Tuning (Optional)**"
      ]
    },
    {
      "cell_type": "code",
      "execution_count": 15,
      "metadata": {
        "id": "HTXZRvEeNMb1"
      },
      "outputs": [
        {
          "name": "stdout",
          "output_type": "stream",
          "text": [
            "Best parameters for Logistic Regression: {'C': 0.1, 'penalty': 'l2', 'solver': 'lbfgs'}\n",
            "Logistic Regression Accuracy After Tuning: 0.9943333333333333\n",
            "              precision    recall  f1-score   support\n",
            "\n",
            "           0       1.00      1.00      1.00       368\n",
            "           1       1.00      1.00      1.00       371\n",
            "           2       1.00      0.91      0.95       185\n",
            "           3       1.00      1.00      1.00       387\n",
            "           4       1.00      1.00      1.00       328\n",
            "           5       1.00      1.00      1.00       187\n",
            "           6       1.00      1.00      1.00       367\n",
            "           7       1.00      0.99      1.00       198\n",
            "           8       1.00      1.00      1.00       211\n",
            "           9       0.96      1.00      0.98       398\n",
            "\n",
            "    accuracy                           0.99      3000\n",
            "   macro avg       1.00      0.99      0.99      3000\n",
            "weighted avg       0.99      0.99      0.99      3000\n",
            "\n",
            "\n",
            "\n",
            "Best parameters for Random Forest: {'n_estimators': 50, 'min_samples_split': 10, 'min_samples_leaf': 2, 'max_depth': None, 'bootstrap': True}\n",
            "Random Forest Accuracy After Tuning: 0.9586666666666667\n",
            "              precision    recall  f1-score   support\n",
            "\n",
            "           0       1.00      1.00      1.00       368\n",
            "           1       0.98      1.00      0.99       371\n",
            "           2       0.86      0.80      0.83       185\n",
            "           3       0.98      1.00      0.99       387\n",
            "           4       0.99      1.00      1.00       328\n",
            "           5       0.75      0.89      0.81       187\n",
            "           6       1.00      1.00      1.00       367\n",
            "           7       1.00      0.95      0.98       198\n",
            "           8       0.96      0.73      0.83       211\n",
            "           9       0.95      1.00      0.97       398\n",
            "\n",
            "    accuracy                           0.96      3000\n",
            "   macro avg       0.95      0.94      0.94      3000\n",
            "weighted avg       0.96      0.96      0.96      3000\n",
            "\n",
            "\n",
            "\n",
            "Best parameters for MLP: {'activation': 'relu', 'hidden_layer_sizes': (50,), 'learning_rate': 'constant', 'solver': 'adam'}\n",
            "MLP Accuracy After Tuning: 1.0\n",
            "              precision    recall  f1-score   support\n",
            "\n",
            "           0       1.00      1.00      1.00       368\n",
            "           1       1.00      1.00      1.00       371\n",
            "           2       1.00      1.00      1.00       185\n",
            "           3       1.00      1.00      1.00       387\n",
            "           4       1.00      1.00      1.00       328\n",
            "           5       1.00      1.00      1.00       187\n",
            "           6       1.00      1.00      1.00       367\n",
            "           7       1.00      1.00      1.00       198\n",
            "           8       1.00      1.00      1.00       211\n",
            "           9       1.00      1.00      1.00       398\n",
            "\n",
            "    accuracy                           1.00      3000\n",
            "   macro avg       1.00      1.00      1.00      3000\n",
            "weighted avg       1.00      1.00      1.00      3000\n",
            "\n"
          ]
        }
      ],
      "source": [
        "#Type your code here\n",
        "\n",
        "print(\"Best parameters for Logistic Regression:\", grid_lr.best_params_)\n",
        "y_pred_lr = grid_lr.predict(X_test)\n",
        "print(\"Logistic Regression Accuracy After Tuning:\", accuracy_score(y_test, y_pred_lr))\n",
        "print(classification_report(y_test, y_pred_lr))\n",
        "print(\"\\n\")\n",
        "\n",
        "\n",
        "\n",
        "print(\"Best parameters for Random Forest:\", rand_rf.best_params_)\n",
        "y_pred_rf = rand_rf.predict(X_test)\n",
        "print(\"Random Forest Accuracy After Tuning:\", accuracy_score(y_test, y_pred_rf))\n",
        "print(classification_report(y_test, y_pred_rf))\n",
        "print(\"\\n\")\n",
        "\n",
        "\n",
        "print(\"Best parameters for MLP:\", mlp_grid.best_params_)\n",
        "y_pred_mlp_tuned = mlp_grid.predict(X_test)\n",
        "print(\"MLP Accuracy After Tuning:\", accuracy_score(y_test, y_pred_mlp_tuned))\n",
        "print(classification_report(y_test, y_pred_mlp_tuned))\n"
      ]
    },
    {
      "cell_type": "markdown",
      "metadata": {},
      "source": [
        "### **Evaluasi Model Setelah Hyperparameter Tuning**  \n",
        "\n",
        "1. **Logistic Regression**  \n",
        "   - **Best Parameters**: `{'C': 0.1, 'penalty': 'l2', 'solver': 'lbfgs'}`  \n",
        "   - **Akurasi Setelah Tuning**: **99.43%**  \n",
        "   - Model mengalami peningkatan akurasi signifikan setelah tuning, dari **93.47% ke 99.43%**.  \n",
        "   - **Precision, recall, dan f1-score** hampir sempurna di semua kelas, tetapi **kelas 2 dan 9 memiliki sedikit penurunan recall**.  \n",
        "   - Hasil yang **hampir sempurna** ini perlu diperiksa lebih lanjut untuk memastikan tidak terjadi **overfitting** atau **data leakage**.  \n",
        "\n",
        "2. **Random Forest Classifier**  \n",
        "   - **Best Parameters**: `{'n_estimators': 50, 'min_samples_split': 10, 'min_samples_leaf': 2, 'max_depth': None, 'bootstrap': True}`  \n",
        "   - **Akurasi Setelah Tuning**: **95.87%**  \n",
        "   - Model ini mengalami **sedikit peningkatan dibanding sebelum tuning (95.63%)**, menunjukkan bahwa parameter yang dipilih membantu meningkatkan performa.  \n",
        "   - **Recall kelas 2 dan 8 masih lebih rendah dibanding kelas lainnya**, menandakan bahwa model masih kesulitan dalam mengenali beberapa kategori tertentu.  \n",
        "   - **Random Forest tetap menjadi model yang kuat dan lebih interpretable dibandingkan MLP**.  \n",
        "\n",
        "3. **MLP Classifier (Neural Network)**  \n",
        "   - **Best Parameters**: `{'activation': 'relu', 'hidden_layer_sizes': (50,), 'learning_rate': 'constant', 'solver': 'adam'}`  \n",
        "   - **Akurasi Setelah Tuning**: **100%**  \n",
        "   - Model kembali mencapai **akurasi sempurna (1.0)**, dengan **precision, recall, dan f1-score 1.00 di semua kelas**.  \n",
        "   - **Hasil ini perlu dicermati dengan sangat hati-hati**, karena kemungkinan besar terjadi **overfitting atau data leakage**.  \n",
        "   - Validasi tambahan seperti **cross-validation atau pengujian dengan data baru** sangat disarankan untuk memastikan model benar-benar dapat **menggeneralisasi** ke data yang belum pernah dilihat sebelumnya.  \n",
        "\n"
      ]
    },
    {
      "cell_type": "markdown",
      "metadata": {},
      "source": [
        "### **Kesimpulan**  \n",
        "- **Logistic Regression mengalami peningkatan besar setelah tuning**, tetapi hasil mendekati sempurna perlu diuji lebih lanjut.  \n",
        "- **Random Forest tetap stabil dengan sedikit peningkatan performa**, tetap menjadi pilihan yang baik karena lebih robust terhadap overfitting dibanding MLP.  \n",
        "- **MLP Classifier menghasilkan hasil sempurna (1.0), yang sangat mencurigakan**. Perlu diperiksa kembali apakah terjadi **overfitting atau data leakage**.  \n",
        "- **Langkah selanjutnya** adalah menguji model dengan **data baru atau teknik validasi silang** untuk memastikan model dapat bekerja dengan baik dalam situasi nyata."
      ]
    },
    {
      "cell_type": "markdown",
      "metadata": {
        "id": "ZRsOdm4uEgAW"
      },
      "source": [
        "## **e. Analisis Hasil Evaluasi Model Klasifikasi**"
      ]
    },
    {
      "cell_type": "markdown",
      "metadata": {},
      "source": [
        "## 1. Apakah Hasil Setelah Tuning Lebih Baik"
      ]
    },
    {
      "cell_type": "markdown",
      "metadata": {},
      "source": [
        "## **Kesimpulan: Apakah Hasil Setelah Tuning Lebih Baik?**  \n",
        "\n",
        "Ya, hasil setelah tuning menunjukkan peningkatan performa pada semua model yang diuji:  \n",
        "\n",
        "1. **Logistic Regression** mengalami peningkatan akurasi dari **93.47% menjadi 99.43%**, dengan precision, recall, dan f1-score yang hampir sempurna. Namun, beberapa kelas masih menunjukkan sedikit penurunan recall, sehingga perlu validasi lebih lanjut.  \n",
        "\n",
        "2. **Random Forest** juga mengalami sedikit peningkatan dari **95.63% menjadi 95.87%**. Meskipun peningkatannya tidak terlalu besar, parameter tuning membantu model menjadi lebih stabil dalam mengenali pola data.  \n",
        "\n",
        "3. **MLP Classifier** tetap mempertahankan akurasi sempurna **100%**, baik sebelum maupun setelah tuning. Hasil ini perlu diperiksa lebih lanjut untuk memastikan tidak terjadi **overfitting atau data leakage**.  \n",
        "\n",
        "Secara keseluruhan, tuning berhasil meningkatkan performa model, terutama pada Logistic Regression. Namun, untuk memastikan model dapat bekerja dengan baik pada data baru, perlu dilakukan **validasi tambahan**, seperti cross-validation atau pengujian pada dataset yang berbeda."
      ]
    },
    {
      "cell_type": "markdown",
      "metadata": {},
      "source": [
        "## 2. Berdasarkan Akurasi yang di Dapatkan Apakah Model mengalami Overfitting"
      ]
    },
    {
      "cell_type": "code",
      "execution_count": 16,
      "metadata": {},
      "outputs": [
        {
          "name": "stderr",
          "output_type": "stream",
          "text": [
            "c:\\Users\\FX506\\AppData\\Local\\Programs\\Python\\Python311\\Lib\\site-packages\\sklearn\\linear_model\\_logistic.py:469: ConvergenceWarning: lbfgs failed to converge (status=1):\n",
            "STOP: TOTAL NO. of ITERATIONS REACHED LIMIT.\n",
            "\n",
            "Increase the number of iterations (max_iter) or scale the data as shown in:\n",
            "    https://scikit-learn.org/stable/modules/preprocessing.html\n",
            "Please also refer to the documentation for alternative solver options:\n",
            "    https://scikit-learn.org/stable/modules/linear_model.html#logistic-regression\n",
            "  n_iter_i = _check_optimize_result(\n",
            "c:\\Users\\FX506\\AppData\\Local\\Programs\\Python\\Python311\\Lib\\site-packages\\sklearn\\linear_model\\_logistic.py:469: ConvergenceWarning: lbfgs failed to converge (status=1):\n",
            "STOP: TOTAL NO. of ITERATIONS REACHED LIMIT.\n",
            "\n",
            "Increase the number of iterations (max_iter) or scale the data as shown in:\n",
            "    https://scikit-learn.org/stable/modules/preprocessing.html\n",
            "Please also refer to the documentation for alternative solver options:\n",
            "    https://scikit-learn.org/stable/modules/linear_model.html#logistic-regression\n",
            "  n_iter_i = _check_optimize_result(\n",
            "c:\\Users\\FX506\\AppData\\Local\\Programs\\Python\\Python311\\Lib\\site-packages\\sklearn\\linear_model\\_logistic.py:469: ConvergenceWarning: lbfgs failed to converge (status=1):\n",
            "STOP: TOTAL NO. of ITERATIONS REACHED LIMIT.\n",
            "\n",
            "Increase the number of iterations (max_iter) or scale the data as shown in:\n",
            "    https://scikit-learn.org/stable/modules/preprocessing.html\n",
            "Please also refer to the documentation for alternative solver options:\n",
            "    https://scikit-learn.org/stable/modules/linear_model.html#logistic-regression\n",
            "  n_iter_i = _check_optimize_result(\n",
            "c:\\Users\\FX506\\AppData\\Local\\Programs\\Python\\Python311\\Lib\\site-packages\\sklearn\\linear_model\\_logistic.py:469: ConvergenceWarning: lbfgs failed to converge (status=1):\n",
            "STOP: TOTAL NO. of ITERATIONS REACHED LIMIT.\n",
            "\n",
            "Increase the number of iterations (max_iter) or scale the data as shown in:\n",
            "    https://scikit-learn.org/stable/modules/preprocessing.html\n",
            "Please also refer to the documentation for alternative solver options:\n",
            "    https://scikit-learn.org/stable/modules/linear_model.html#logistic-regression\n",
            "  n_iter_i = _check_optimize_result(\n",
            "c:\\Users\\FX506\\AppData\\Local\\Programs\\Python\\Python311\\Lib\\site-packages\\sklearn\\linear_model\\_logistic.py:469: ConvergenceWarning: lbfgs failed to converge (status=1):\n",
            "STOP: TOTAL NO. of ITERATIONS REACHED LIMIT.\n",
            "\n",
            "Increase the number of iterations (max_iter) or scale the data as shown in:\n",
            "    https://scikit-learn.org/stable/modules/preprocessing.html\n",
            "Please also refer to the documentation for alternative solver options:\n",
            "    https://scikit-learn.org/stable/modules/linear_model.html#logistic-regression\n",
            "  n_iter_i = _check_optimize_result(\n"
          ]
        },
        {
          "name": "stdout",
          "output_type": "stream",
          "text": [
            "Cross-Validation Accuracy Scores: [0.96785714 0.95357143 0.99214286 0.95642857 0.94285714]\n",
            "Rata-rata CV Accuracy: 0.9625714285714286\n"
          ]
        },
        {
          "data": {
            "image/png": "[encoded data removed]",
            "text/plain": [
              "<Figure size 800x600 with 1 Axes>"
            ]
          },
          "metadata": {},
          "output_type": "display_data"
        }
      ],
      "source": [
        "# 1. Cross Validation\n",
        "# Menggunakan 5-fold cross-validation pada Logistic Regression\n",
        "lr_model = LogisticRegression(max_iter=1000, random_state=42)\n",
        "cv_scores = cross_val_score(lr_model, X_train, y_train, cv=5, scoring='accuracy')\n",
        "\n",
        "print(\"Cross-Validation Accuracy Scores:\", cv_scores)\n",
        "print(\"Rata-rata CV Accuracy:\", np.mean(cv_scores))\n",
        "\n",
        "# 2. Learning Curve\n",
        "# Menggunakan learning_curve untuk mendapatkan performa model pada berbagai ukuran data training\n",
        "train_sizes, train_scores, validation_scores = learning_curve(\n",
        "    lr_model, X_train, y_train, cv=5, scoring='accuracy', n_jobs=-1,\n",
        "    train_sizes=np.linspace(0.1, 1.0, 5))\n",
        "\n",
        "# Hitung rata-rata dan standar deviasi untuk training dan validasi\n",
        "train_scores_mean = np.mean(train_scores, axis=1)\n",
        "train_scores_std = np.std(train_scores, axis=1)\n",
        "validation_scores_mean = np.mean(validation_scores, axis=1)\n",
        "validation_scores_std = np.std(validation_scores, axis=1)\n",
        "\n",
        "# Plot learning curve\n",
        "plt.figure(figsize=(8, 6))\n",
        "plt.plot(train_sizes, train_scores_mean, 'o-', color=\"r\", label=\"Training score\")\n",
        "plt.fill_between(train_sizes, train_scores_mean - train_scores_std,\n",
        "                 train_scores_mean + train_scores_std, alpha=0.1, color=\"r\")\n",
        "plt.plot(train_sizes, validation_scores_mean, 'o-', color=\"g\", label=\"Cross-validation score\")\n",
        "plt.fill_between(train_sizes, validation_scores_mean - validation_scores_std,\n",
        "                 validation_scores_mean + validation_scores_std, alpha=0.1, color=\"g\")\n",
        "plt.title('Learning Curve - Logistic Regression')\n",
        "plt.xlabel('Jumlah Data Training')\n",
        "plt.ylabel('Accuracy')\n",
        "plt.legend(loc=\"best\")\n",
        "plt.grid(True)\n",
        "plt.show()\n"
      ]
    },
    {
      "cell_type": "markdown",
      "metadata": {},
      "source": [
        "Saya melakukan percobaan ini untuk mengevaluasi apakah model **Logistic Regression** mengalami **overfitting** atau **underfitting** dengan menggunakan **cross-validation** dan menganalisis **learning curve**.  \n",
        "\n",
        "Dari hasil yang ditunjukkan dalam gambar:  \n",
        "\n",
        "1. **Training score** (garis merah) dan **cross-validation score** (garis hijau) meningkat seiring bertambahnya jumlah data, namun tidak mencapai angka **1.0**, melainkan berkisar di sekitar **0.98**.  \n",
        "2. **Confidence interval cukup besar pada awal pelatihan**, tetapi semakin mengecil saat jumlah data meningkat, menunjukkan model menjadi lebih stabil.  \n",
        "3. **Terdapat sedikit gap antara training score dan cross-validation score**, tetapi tetap dalam rentang yang kecil, menandakan model memiliki generalisasi yang baik tanpa indikasi overfitting yang signifikan.  \n",
        "4. **Di titik akhir (sekitar 5000 data), skor mengalami sedikit penurunan**, yang mungkin disebabkan oleh kompleksitas data atau variasi dalam distribusi data pelatihan.  "
      ]
    },
    {
      "cell_type": "markdown",
      "metadata": {},
      "source": [
        "### **Analisis dan Interpretasi:**  \n",
        "- **Tidak ada indikasi kuat overfitting**, karena perbedaan antara training score dan cross-validation score relatif kecil.  \n",
        "- **Model mengalami peningkatan performa secara konsisten**, dengan skor yang stabil setelah jumlah data mencapai sekitar **2000-4000 sampel**.  \n",
        "- **Confidence interval besar di awal** menunjukkan adanya variabilitas dalam performa ketika dataset masih kecil, tetapi menurun saat lebih banyak data digunakan.  \n",
        "- **Penurunan skor pada titik akhir** bisa disebabkan oleh tambahan data yang memiliki distribusi berbeda atau model yang mengalami kesulitan dalam menangkap pola yang lebih kompleks.  \n",
        "\n",
        "Secara keseluruhan, **Logistic Regression menunjukkan performa yang baik dan stabil**, dengan sedikit penurunan di akhir yang perlu dianalisis lebih lanjut."
      ]
    },
    {
      "cell_type": "code",
      "execution_count": 17,
      "metadata": {},
      "outputs": [
        {
          "name": "stdout",
          "output_type": "stream",
          "text": [
            "Cross-Validation Accuracy Scores: [0.95428571 0.94571429 0.94642857 0.93571429 0.935     ]\n",
            "Rata-rata CV Accuracy: 0.9434285714285714\n"
          ]
        },
        {
          "data": {
            "image/png": "[encoded data removed]",
            "text/plain": [
              "<Figure size 800x600 with 1 Axes>"
            ]
          },
          "metadata": {},
          "output_type": "display_data"
        }
      ],
      "source": [
        "# Contoh: menggunakan Random Forest sebagai model\n",
        "rf_model = RandomForestClassifier(n_estimators=100, random_state=42)\n",
        "\n",
        "# 1. Cross Validation\n",
        "# Menggunakan 5-fold cross validation pada data training\n",
        "cv_scores = cross_val_score(rf_model, X_train, y_train, cv=5, scoring='accuracy')\n",
        "print(\"Cross-Validation Accuracy Scores:\", cv_scores)\n",
        "print(\"Rata-rata CV Accuracy:\", np.mean(cv_scores))\n",
        "\n",
        "# 2. Learning Curve\n",
        "# Menggunakan learning_curve untuk mendapatkan performance model pada berbagai ukuran data training\n",
        "train_sizes, train_scores, validation_scores = learning_curve(\n",
        "    rf_model, X_train, y_train, cv=5, scoring='accuracy', n_jobs=-1,\n",
        "    train_sizes=np.linspace(0.1, 1.0, 5)\n",
        ")\n",
        "\n",
        "# Hitung rata-rata dan standar deviasi untuk training dan validasi\n",
        "train_scores_mean = np.mean(train_scores, axis=1)\n",
        "train_scores_std = np.std(train_scores, axis=1)\n",
        "validation_scores_mean = np.mean(validation_scores, axis=1)\n",
        "validation_scores_std = np.std(validation_scores, axis=1)\n",
        "\n",
        "# Plot learning curve\n",
        "plt.figure(figsize=(8, 6))\n",
        "plt.plot(train_sizes, train_scores_mean, 'o-', color=\"r\", label=\"Training score\")\n",
        "plt.fill_between(train_sizes, train_scores_mean - train_scores_std,\n",
        "                 train_scores_mean + train_scores_std, alpha=0.1, color=\"r\")\n",
        "plt.plot(train_sizes, validation_scores_mean, 'o-', color=\"g\", label=\"Cross-validation score\")\n",
        "plt.fill_between(train_sizes, validation_scores_mean - validation_scores_std,\n",
        "                 validation_scores_mean + validation_scores_std, alpha=0.1, color=\"g\")\n",
        "plt.title('Learning Curve - Random Forest')\n",
        "plt.xlabel('Jumlah Data Training')\n",
        "plt.ylabel('Accuracy')\n",
        "plt.legend(loc=\"best\")\n",
        "plt.grid(True)\n",
        "plt.show()"
      ]
    },
    {
      "cell_type": "markdown",
      "metadata": {},
      "source": [
        "Saya melakukan analisis ini untuk mengevaluasi apakah pemodelan dengan **Random Forest** mengalami **overfitting** dengan menggunakan **cross-validation** dan melihat **learning curve**.  \n",
        "\n",
        "Dari hasil yang ditunjukkan dalam gambar:  \n",
        "\n",
        "1. **Training score (garis merah) tetap di angka 1.0** sepanjang peningkatan jumlah data, menunjukkan bahwa model benar-benar \"menghafal\" data pelatihan.  \n",
        "2. **Cross-validation score (garis hijau) mengalami peningkatan** seiring bertambahnya jumlah data, tetapi tetap lebih rendah dari training score, dengan nilai akhir mendekati **0.95**.  \n",
        "3. **Confidence interval cukup besar di awal**, tetapi semakin mengecil ketika jumlah data bertambah, yang menunjukkan bahwa model menjadi lebih stabil dengan dataset yang lebih besar.  \n",
        "\n"
      ]
    },
    {
      "cell_type": "markdown",
      "metadata": {},
      "source": [
        "### **Analisis dan Interpretasi:**  \n",
        "- **Ada indikasi overfitting** karena **training score tetap di 1.0**, sementara **cross-validation score jauh lebih rendah**. Ini menunjukkan bahwa model sangat baik dalam mengenali data latih, tetapi tidak sepenuhnya mampu menggeneralisasi ke data baru.  \n",
        "- **Cross-validation score yang terus meningkat** menandakan bahwa model masih bisa mendapat manfaat dari lebih banyak data, tetapi tidak akan mencapai 1.0 karena model mengalami keterbatasan dalam generalisasi.  \n",
        "- **Kemungkinan model \"menghafal\" pola dari data pelatihan sangat tinggi**, mengingat perbedaan yang signifikan antara training dan cross-validation score.  \n",
        "- **Untuk mengurangi overfitting**, dapat dilakukan penyesuaian hyperparameter seperti mengurangi kedalaman pohon (max_depth) atau meningkatkan nilai min_samples_split dan min_samples_leaf.  \n",
        "\n",
        "Kesimpulannya, **Random Forest dalam percobaan ini menunjukkan kecenderungan overfitting** dan perlu dilakukan langkah-langkah tambahan agar model dapat lebih baik dalam menangani data baru."
      ]
    },
    {
      "cell_type": "code",
      "execution_count": 18,
      "metadata": {},
      "outputs": [
        {
          "name": "stdout",
          "output_type": "stream",
          "text": [
            "Cross-Validation Accuracy Scores (MLP): [1.         1.         1.         0.99785714 1.        ]\n",
            "Rata-rata CV Accuracy (MLP): 0.9995714285714286\n"
          ]
        },
        {
          "data": {
            "image/png": "[encoded data removed]",
            "text/plain": [
              "<Figure size 800x600 with 1 Axes>"
            ]
          },
          "metadata": {},
          "output_type": "display_data"
        }
      ],
      "source": [
        "mlp_model = MLPClassifier(random_state=42, max_iter=1000)\n",
        "\n",
        "# 1. Cross Validation\n",
        "# Menggunakan 5-fold cross validation pada data training\n",
        "cv_scores = cross_val_score(mlp_model, X_train, y_train, cv=5, scoring='accuracy')\n",
        "print(\"Cross-Validation Accuracy Scores (MLP):\", cv_scores)\n",
        "print(\"Rata-rata CV Accuracy (MLP):\", np.mean(cv_scores))\n",
        "\n",
        "# 2. Learning Curve\n",
        "# Menggunakan learning_curve untuk mendapatkan performance model pada berbagai ukuran data training\n",
        "train_sizes, train_scores, validation_scores = learning_curve(\n",
        "    mlp_model, X_train, y_train, cv=5, scoring='accuracy', n_jobs=-1,\n",
        "    train_sizes=np.linspace(0.1, 1.0, 5)\n",
        ")\n",
        "\n",
        "# Hitung rata-rata dan standar deviasi untuk training dan validasi\n",
        "train_scores_mean = np.mean(train_scores, axis=1)\n",
        "train_scores_std = np.std(train_scores, axis=1)\n",
        "validation_scores_mean = np.mean(validation_scores, axis=1)\n",
        "validation_scores_std = np.std(validation_scores, axis=1)\n",
        "\n",
        "# Plot learning curve\n",
        "plt.figure(figsize=(8, 6))\n",
        "plt.plot(train_sizes, train_scores_mean, 'o-', color=\"r\", label=\"Training score\")\n",
        "plt.fill_between(\n",
        "    train_sizes,\n",
        "    train_scores_mean - train_scores_std,\n",
        "    train_scores_mean + train_scores_std,\n",
        "    alpha=0.1,\n",
        "    color=\"r\"\n",
        ")\n",
        "plt.plot(train_sizes, validation_scores_mean, 'o-', color=\"g\", label=\"Cross-validation score\")\n",
        "plt.fill_between(\n",
        "    train_sizes,\n",
        "    validation_scores_mean - validation_scores_std,\n",
        "    validation_scores_mean + validation_scores_std,\n",
        "    alpha=0.1,\n",
        "    color=\"g\"\n",
        ")\n",
        "plt.title('Learning Curve - MLPClassifier')\n",
        "plt.xlabel('Jumlah Data Training')\n",
        "plt.ylabel('Accuracy')\n",
        "plt.legend(loc=\"best\")\n",
        "plt.grid(True)\n",
        "plt.show()"
      ]
    },
    {
      "cell_type": "markdown",
      "metadata": {},
      "source": [
        "Saya melakukan percobaan ini untuk mengevaluasi apakah pemodelan dengan **Multi-Layer Perceptron (MLP)** mengalami **overfitting** atau tidak. Oleh sebab itu, saya menggunakan **cross-validation** dan menganalisis **learning curve**.  \n",
        "\n",
        "Dari hasil yang ditunjukkan dalam gambar:  \n",
        "\n",
        "1. **Training score (garis merah) dan cross-validation score (garis hijau) meningkat tajam di awal** dan kemudian stabil di angka **1.0** saat jumlah data mencapai sekitar 3000 sampel atau lebih.  \n",
        "2. **Tidak ada gap signifikan antara training score dan cross-validation score**, terutama setelah jumlah data mencapai 3000, yang menunjukkan bahwa model mampu melakukan generalisasi dengan sangat baik.  \n",
        "3. **Confidence interval pada kurva cross-validation cukup besar di awal**, tetapi semakin mengecil saat jumlah data bertambah, menunjukkan model menjadi lebih stabil dengan lebih banyak data.  \n",
        "\n"
      ]
    },
    {
      "cell_type": "markdown",
      "metadata": {},
      "source": [
        "### **Analisis dan Interpretasi:**  \n",
        "- **Tidak ada indikasi overfitting**, karena **training dan cross-validation score bertemu di angka 1.0** setelah jumlah data cukup besar. Model berhasil belajar dengan baik tanpa \"menghafal\" data latih secara berlebihan.  \n",
        "- **Model cepat mencapai performa optimal**, terlihat dari learning curve yang langsung stabil setelah sekitar 2000 data, menandakan bahwa model dapat mempelajari pola dengan efisien.  \n",
        "- **Confidence interval yang besar di awal** menunjukkan variasi performa pada dataset yang lebih kecil, tetapi hal ini berkurang dengan lebih banyak data, menandakan peningkatan stabilitas model.  \n",
        "- **Hasil yang sangat tinggi (akurasi 1.0)** dapat mengindikasikan dataset yang relatif mudah diprediksi atau fitur yang sangat informatif, sehingga model bisa belajar dengan sangat baik.  \n",
        "\n",
        "Kesimpulannya, **MLP Classifier dalam percobaan ini menunjukkan kinerja yang sangat baik tanpa indikasi overfitting**, dengan generalisasi yang optimal ketika jumlah data cukup besar."
      ]
    },
    {
      "cell_type": "markdown",
      "metadata": {},
      "source": [
        "### **Kesimpulan Keseluruhan dari Ketiga Model (MLP, Random Forest, dan Logistic Regression):**  \n",
        "\n",
        "1. **Multi-Layer Perceptron (MLP)**  \n",
        "   - Menunjukkan **akurasi yang sangat tinggi**, baik pada data latih maupun validasi, dengan **nilai training dan cross-validation score mencapai 1.0** setelah jumlah data cukup besar.  \n",
        "   - **Tidak ada indikasi overfitting yang signifikan**, karena skor validasi dan pelatihan hampir identik. Namun, **variabilitas awal dalam cross-validation** menunjukkan bahwa model awalnya sensitif terhadap pembagian data.  \n",
        "\n",
        "2. **Random Forest**  \n",
        "   - **Memiliki indikasi overfitting**, karena **training score tetap di 1.0**, sementara **cross-validation score tertinggal** dan tidak mencapai nilai yang sama.  \n",
        "   - Meskipun gap antara training dan validation score mengecil saat jumlah data bertambah, model tetap menunjukkan kecenderungan \"menghafal\" pola data latih. **Regularisasi tambahan atau pruning bisa membantu mengurangi overfitting.**  \n",
        "\n",
        "3. **Logistic Regression**  \n",
        "   - **Tidak menunjukkan indikasi overfitting atau underfitting yang berarti**.  \n",
        "   - **Training dan validation score mendekati satu sama lain**, dengan tren yang stabil saat jumlah data bertambah, menandakan model ini **mampu melakukan generalisasi dengan baik** pada dataset yang digunakan.  "
      ]
    },
    {
      "cell_type": "markdown",
      "metadata": {},
      "source": [
        "### **Kesimpulan Akhir:**  \n",
        "- **MLP dan Logistic Regression memiliki generalisasi yang baik**, dengan MLP menunjukkan performa luar biasa setelah data mencukupi.  \n",
        "- **Random Forest menunjukkan tanda-tanda overfitting**, yang dapat dikurangi dengan teknik regularisasi atau tuning lebih lanjut.  \n",
        "- **Secara keseluruhan, semua model menunjukkan performa tinggi**, namun perlu **evaluasi tambahan pada dataset berbeda** untuk memastikan generalisasi yang lebih luas."
      ]
    },
    {
      "cell_type": "markdown",
      "metadata": {},
      "source": [
        "## 3. Rekomendasi apa yang anda berika untuk next pemodelannya"
      ]
    },
    {
      "cell_type": "markdown",
      "metadata": {},
      "source": [
        "### **Rekomendasi untuk Next Pemodelan:**  \n",
        "\n",
        "1. **Mengatasi Overfitting pada Random Forest**  \n",
        "   - Menerapkan **regularisasi**, seperti **mengurangi jumlah pohon** atau **menyesuaikan kedalaman maksimum (max_depth)**.  \n",
        "   - **Menambahkan lebih banyak data** atau menggunakan **data augmentation** jika memungkinkan.  \n",
        "   - Menggunakan teknik **feature selection** untuk mengurangi kemungkinan model terlalu fokus pada fitur yang kurang relevan.  \n",
        "\n",
        "2. **Meningkatkan Stabilitas MLP**  \n",
        "   - Mencoba **dropout regularization** untuk mengurangi ketergantungan model terhadap fitur tertentu dan meningkatkan generalisasi.  \n",
        "   - **Hyperparameter tuning** seperti menyesuaikan jumlah hidden layers dan jumlah neuron per layer agar model lebih robust.  \n",
        "   - Menggunakan **early stopping** untuk mencegah model berlatih terlalu lama hingga mengalami overfitting.  \n",
        "\n",
        "3. **Evaluasi Lanjutan pada Logistic Regression**  \n",
        "   - Menguji model pada **dataset yang lebih kompleks atau lebih besar** untuk melihat apakah performanya tetap stabil.  \n",
        "   - Menambahkan **interaksi fitur atau polinomial fitur** jika diperlukan, terutama jika terdapat pola non-linear yang tidak tertangkap oleh regresi linier.  \n",
        "\n",
        "4. **Eksperimen dengan Model Alternatif**  \n",
        "   - Menguji model lain seperti **Gradient Boosting (XGBoost, LightGBM, atau CatBoost)** untuk melihat apakah model lain dapat memberikan performa lebih baik dengan risiko overfitting yang lebih kecil.  \n",
        "   - Menggunakan **ensemble learning** dengan menggabungkan prediksi dari beberapa model untuk meningkatkan akurasi dan stabilitas.  \n",
        "\n",
        "5. **Validasi yang Lebih Ketat**  \n",
        "   - Menggunakan **stratified cross-validation** untuk memastikan distribusi data tetap seimbang di setiap fold.  \n",
        "   - Menganalisis **precision-recall trade-off** atau **ROC curve** untuk melihat performa model lebih mendetail, terutama jika dataset memiliki distribusi kelas yang tidak seimbang.  \n",
        "\n"
      ]
    },
    {
      "cell_type": "markdown",
      "metadata": {},
      "source": [
        "### **Kesimpulan Rekomendasi:**  \n",
        "Langkah selanjutnya harus fokus pada **mengurangi overfitting pada Random Forest**, **menstabilkan MLP**, serta **mengujicoba dataset lebih besar dan model lain** untuk memastikan performa model yang optimal di berbagai kondisi."
      ]
    }
  ],
  "metadata": {
    "colab": {
      "provenance": []
    },
    "kernelspec": {
      "display_name": "Python 3",
      "name": "python3"
    },
    "language_info": {
      "codemirror_mode": {
        "name": "ipython",
        "version": 3
      },
      "file_extension": ".py",
      "mimetype": "text/x-python",
      "name": "python",
      "nbconvert_exporter": "python",
      "pygments_lexer": "ipython3",
      "version": "3.11.5"
    }
  },
  "nbformat": 4,
  "nbformat_minor": 0
}
